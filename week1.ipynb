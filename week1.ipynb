{
  "nbformat": 4,
  "nbformat_minor": 0,
  "metadata": {
    "colab": {
      "provenance": [],
      "toc_visible": true
    },
    "kernelspec": {
      "name": "python3",
      "display_name": "Python 3"
    },
    "language_info": {
      "name": "python"
    },
    "widgets": {
      "application/vnd.jupyter.widget-state+json": {
        "d9becf40cf804ce18a9e9d56aea77741": {
          "model_module": "@jupyter-widgets/controls",
          "model_name": "VBoxModel",
          "model_module_version": "1.5.0",
          "state": {
            "_dom_classes": [
              "widget-interact"
            ],
            "_model_module": "@jupyter-widgets/controls",
            "_model_module_version": "1.5.0",
            "_model_name": "VBoxModel",
            "_view_count": null,
            "_view_module": "@jupyter-widgets/controls",
            "_view_module_version": "1.5.0",
            "_view_name": "VBoxView",
            "box_style": "",
            "children": [
              "IPY_MODEL_87d8ad4dc640408f8aadc544b1edafb7",
              "IPY_MODEL_bc4666e0dbee48308b70414dd16c10fc",
              "IPY_MODEL_c7ab9761c15b471eb346bc298a17728a"
            ],
            "layout": "IPY_MODEL_053d7f37d99d48beb3b0a5a162b0fe43"
          }
        },
        "87d8ad4dc640408f8aadc544b1edafb7": {
          "model_module": "@jupyter-widgets/controls",
          "model_name": "DropdownModel",
          "model_module_version": "1.5.0",
          "state": {
            "_dom_classes": [],
            "_model_module": "@jupyter-widgets/controls",
            "_model_module_version": "1.5.0",
            "_model_name": "DropdownModel",
            "_options_labels": [
              "X1",
              "X2",
              "X3",
              "X4",
              "X5",
              "X6",
              "X7",
              "X8",
              "Y1",
              "Y2"
            ],
            "_view_count": null,
            "_view_module": "@jupyter-widgets/controls",
            "_view_module_version": "1.5.0",
            "_view_name": "DropdownView",
            "description": "feature1",
            "description_tooltip": null,
            "disabled": false,
            "index": 9,
            "layout": "IPY_MODEL_2243d2fff5244b56ac9f9972146f5760",
            "style": "IPY_MODEL_285322683fed471499193df3f3cedbe5"
          }
        },
        "bc4666e0dbee48308b70414dd16c10fc": {
          "model_module": "@jupyter-widgets/controls",
          "model_name": "DropdownModel",
          "model_module_version": "1.5.0",
          "state": {
            "_dom_classes": [],
            "_model_module": "@jupyter-widgets/controls",
            "_model_module_version": "1.5.0",
            "_model_name": "DropdownModel",
            "_options_labels": [
              "X1",
              "X2",
              "X3",
              "X4",
              "X5",
              "X6",
              "X7",
              "X8",
              "Y1",
              "Y2"
            ],
            "_view_count": null,
            "_view_module": "@jupyter-widgets/controls",
            "_view_module_version": "1.5.0",
            "_view_name": "DropdownView",
            "description": "feature2",
            "description_tooltip": null,
            "disabled": false,
            "index": 8,
            "layout": "IPY_MODEL_1f3cfbbd5f0e4b5eb06a36da165b5d14",
            "style": "IPY_MODEL_ab79b5dbf4874fbba36c01ad22f72dc3"
          }
        },
        "c7ab9761c15b471eb346bc298a17728a": {
          "model_module": "@jupyter-widgets/output",
          "model_name": "OutputModel",
          "model_module_version": "1.0.0",
          "state": {
            "_dom_classes": [],
            "_model_module": "@jupyter-widgets/output",
            "_model_module_version": "1.0.0",
            "_model_name": "OutputModel",
            "_view_count": null,
            "_view_module": "@jupyter-widgets/output",
            "_view_module_version": "1.0.0",
            "_view_name": "OutputView",
            "layout": "IPY_MODEL_5130f97c7e6d43f7976ac329aa2d27bc",
            "msg_id": "",
            "outputs": []
          }
        },
        "053d7f37d99d48beb3b0a5a162b0fe43": {
          "model_module": "@jupyter-widgets/base",
          "model_name": "LayoutModel",
          "model_module_version": "1.2.0",
          "state": {
            "_model_module": "@jupyter-widgets/base",
            "_model_module_version": "1.2.0",
            "_model_name": "LayoutModel",
            "_view_count": null,
            "_view_module": "@jupyter-widgets/base",
            "_view_module_version": "1.2.0",
            "_view_name": "LayoutView",
            "align_content": null,
            "align_items": null,
            "align_self": null,
            "border": null,
            "bottom": null,
            "display": null,
            "flex": null,
            "flex_flow": null,
            "grid_area": null,
            "grid_auto_columns": null,
            "grid_auto_flow": null,
            "grid_auto_rows": null,
            "grid_column": null,
            "grid_gap": null,
            "grid_row": null,
            "grid_template_areas": null,
            "grid_template_columns": null,
            "grid_template_rows": null,
            "height": null,
            "justify_content": null,
            "justify_items": null,
            "left": null,
            "margin": null,
            "max_height": null,
            "max_width": null,
            "min_height": null,
            "min_width": null,
            "object_fit": null,
            "object_position": null,
            "order": null,
            "overflow": null,
            "overflow_x": null,
            "overflow_y": null,
            "padding": null,
            "right": null,
            "top": null,
            "visibility": null,
            "width": null
          }
        },
        "2243d2fff5244b56ac9f9972146f5760": {
          "model_module": "@jupyter-widgets/base",
          "model_name": "LayoutModel",
          "model_module_version": "1.2.0",
          "state": {
            "_model_module": "@jupyter-widgets/base",
            "_model_module_version": "1.2.0",
            "_model_name": "LayoutModel",
            "_view_count": null,
            "_view_module": "@jupyter-widgets/base",
            "_view_module_version": "1.2.0",
            "_view_name": "LayoutView",
            "align_content": null,
            "align_items": null,
            "align_self": null,
            "border": null,
            "bottom": null,
            "display": null,
            "flex": null,
            "flex_flow": null,
            "grid_area": null,
            "grid_auto_columns": null,
            "grid_auto_flow": null,
            "grid_auto_rows": null,
            "grid_column": null,
            "grid_gap": null,
            "grid_row": null,
            "grid_template_areas": null,
            "grid_template_columns": null,
            "grid_template_rows": null,
            "height": null,
            "justify_content": null,
            "justify_items": null,
            "left": null,
            "margin": null,
            "max_height": null,
            "max_width": null,
            "min_height": null,
            "min_width": null,
            "object_fit": null,
            "object_position": null,
            "order": null,
            "overflow": null,
            "overflow_x": null,
            "overflow_y": null,
            "padding": null,
            "right": null,
            "top": null,
            "visibility": null,
            "width": null
          }
        },
        "285322683fed471499193df3f3cedbe5": {
          "model_module": "@jupyter-widgets/controls",
          "model_name": "DescriptionStyleModel",
          "model_module_version": "1.5.0",
          "state": {
            "_model_module": "@jupyter-widgets/controls",
            "_model_module_version": "1.5.0",
            "_model_name": "DescriptionStyleModel",
            "_view_count": null,
            "_view_module": "@jupyter-widgets/base",
            "_view_module_version": "1.2.0",
            "_view_name": "StyleView",
            "description_width": ""
          }
        },
        "1f3cfbbd5f0e4b5eb06a36da165b5d14": {
          "model_module": "@jupyter-widgets/base",
          "model_name": "LayoutModel",
          "model_module_version": "1.2.0",
          "state": {
            "_model_module": "@jupyter-widgets/base",
            "_model_module_version": "1.2.0",
            "_model_name": "LayoutModel",
            "_view_count": null,
            "_view_module": "@jupyter-widgets/base",
            "_view_module_version": "1.2.0",
            "_view_name": "LayoutView",
            "align_content": null,
            "align_items": null,
            "align_self": null,
            "border": null,
            "bottom": null,
            "display": null,
            "flex": null,
            "flex_flow": null,
            "grid_area": null,
            "grid_auto_columns": null,
            "grid_auto_flow": null,
            "grid_auto_rows": null,
            "grid_column": null,
            "grid_gap": null,
            "grid_row": null,
            "grid_template_areas": null,
            "grid_template_columns": null,
            "grid_template_rows": null,
            "height": null,
            "justify_content": null,
            "justify_items": null,
            "left": null,
            "margin": null,
            "max_height": null,
            "max_width": null,
            "min_height": null,
            "min_width": null,
            "object_fit": null,
            "object_position": null,
            "order": null,
            "overflow": null,
            "overflow_x": null,
            "overflow_y": null,
            "padding": null,
            "right": null,
            "top": null,
            "visibility": null,
            "width": null
          }
        },
        "ab79b5dbf4874fbba36c01ad22f72dc3": {
          "model_module": "@jupyter-widgets/controls",
          "model_name": "DescriptionStyleModel",
          "model_module_version": "1.5.0",
          "state": {
            "_model_module": "@jupyter-widgets/controls",
            "_model_module_version": "1.5.0",
            "_model_name": "DescriptionStyleModel",
            "_view_count": null,
            "_view_module": "@jupyter-widgets/base",
            "_view_module_version": "1.2.0",
            "_view_name": "StyleView",
            "description_width": ""
          }
        },
        "5130f97c7e6d43f7976ac329aa2d27bc": {
          "model_module": "@jupyter-widgets/base",
          "model_name": "LayoutModel",
          "model_module_version": "1.2.0",
          "state": {
            "_model_module": "@jupyter-widgets/base",
            "_model_module_version": "1.2.0",
            "_model_name": "LayoutModel",
            "_view_count": null,
            "_view_module": "@jupyter-widgets/base",
            "_view_module_version": "1.2.0",
            "_view_name": "LayoutView",
            "align_content": null,
            "align_items": null,
            "align_self": null,
            "border": null,
            "bottom": null,
            "display": null,
            "flex": null,
            "flex_flow": null,
            "grid_area": null,
            "grid_auto_columns": null,
            "grid_auto_flow": null,
            "grid_auto_rows": null,
            "grid_column": null,
            "grid_gap": null,
            "grid_row": null,
            "grid_template_areas": null,
            "grid_template_columns": null,
            "grid_template_rows": null,
            "height": null,
            "justify_content": null,
            "justify_items": null,
            "left": null,
            "margin": null,
            "max_height": null,
            "max_width": null,
            "min_height": null,
            "min_width": null,
            "object_fit": null,
            "object_position": null,
            "order": null,
            "overflow": null,
            "overflow_x": null,
            "overflow_y": null,
            "padding": null,
            "right": null,
            "top": null,
            "visibility": null,
            "width": null
          }
        },
        "19b57f83efdc44be8482fb1c5b2f6800": {
          "model_module": "@jupyter-widgets/base",
          "model_name": "LayoutModel",
          "model_module_version": "1.2.0",
          "state": {
            "_model_module": "@jupyter-widgets/base",
            "_model_module_version": "1.2.0",
            "_model_name": "LayoutModel",
            "_view_count": null,
            "_view_module": "@jupyter-widgets/base",
            "_view_module_version": "1.2.0",
            "_view_name": "LayoutView",
            "align_content": null,
            "align_items": null,
            "align_self": null,
            "border": null,
            "bottom": null,
            "display": null,
            "flex": null,
            "flex_flow": null,
            "grid_area": null,
            "grid_auto_columns": null,
            "grid_auto_flow": null,
            "grid_auto_rows": null,
            "grid_column": null,
            "grid_gap": null,
            "grid_row": null,
            "grid_template_areas": null,
            "grid_template_columns": null,
            "grid_template_rows": null,
            "height": null,
            "justify_content": null,
            "justify_items": null,
            "left": null,
            "margin": null,
            "max_height": null,
            "max_width": null,
            "min_height": null,
            "min_width": null,
            "object_fit": null,
            "object_position": null,
            "order": null,
            "overflow": null,
            "overflow_x": null,
            "overflow_y": null,
            "padding": null,
            "right": null,
            "top": null,
            "visibility": null,
            "width": null
          }
        },
        "ac691376a2fd4e57a695910fba4b16e5": {
          "model_module": "@jupyter-widgets/base",
          "model_name": "LayoutModel",
          "model_module_version": "1.2.0",
          "state": {
            "_model_module": "@jupyter-widgets/base",
            "_model_module_version": "1.2.0",
            "_model_name": "LayoutModel",
            "_view_count": null,
            "_view_module": "@jupyter-widgets/base",
            "_view_module_version": "1.2.0",
            "_view_name": "LayoutView",
            "align_content": null,
            "align_items": null,
            "align_self": null,
            "border": null,
            "bottom": null,
            "display": null,
            "flex": null,
            "flex_flow": null,
            "grid_area": null,
            "grid_auto_columns": null,
            "grid_auto_flow": null,
            "grid_auto_rows": null,
            "grid_column": null,
            "grid_gap": null,
            "grid_row": null,
            "grid_template_areas": null,
            "grid_template_columns": null,
            "grid_template_rows": null,
            "height": null,
            "justify_content": null,
            "justify_items": null,
            "left": null,
            "margin": null,
            "max_height": null,
            "max_width": null,
            "min_height": null,
            "min_width": null,
            "object_fit": null,
            "object_position": null,
            "order": null,
            "overflow": null,
            "overflow_x": null,
            "overflow_y": null,
            "padding": null,
            "right": null,
            "top": null,
            "visibility": null,
            "width": null
          }
        },
        "095e9e4e40584347928936e94481085d": {
          "model_module": "jupyter-matplotlib",
          "model_name": "ToolbarModel",
          "model_module_version": "^0.11",
          "state": {
            "_current_action": "",
            "_dom_classes": [],
            "_model_module": "jupyter-matplotlib",
            "_model_module_version": "^0.11",
            "_model_name": "ToolbarModel",
            "_view_count": null,
            "_view_module": "jupyter-matplotlib",
            "_view_module_version": "^0.11",
            "_view_name": "ToolbarView",
            "button_style": "",
            "collapsed": true,
            "layout": "IPY_MODEL_ac691376a2fd4e57a695910fba4b16e5",
            "orientation": "vertical",
            "toolitems": [
              [
                "Home",
                "Reset original view",
                "home",
                "home"
              ],
              [
                "Back",
                "Back to previous view",
                "arrow-left",
                "back"
              ],
              [
                "Forward",
                "Forward to next view",
                "arrow-right",
                "forward"
              ],
              [
                "Pan",
                "Left button pans, Right button zooms\nx/y fixes axis, CTRL fixes aspect",
                "arrows",
                "pan"
              ],
              [
                "Zoom",
                "Zoom to rectangle\nx/y fixes axis",
                "square-o",
                "zoom"
              ],
              [
                "Download",
                "Download plot",
                "floppy-o",
                "save_figure"
              ]
            ]
          }
        },
        "a0dea139b3574f708a352949007639d1": {
          "model_module": "jupyter-matplotlib",
          "model_name": "MPLCanvasModel",
          "model_module_version": "^0.11",
          "state": {
            "_cursor": "default",
            "_data_url": "data:image/png;base64,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",
            "_dom_classes": [],
            "_figure_label": "Figure 1",
            "_image_mode": "diff",
            "_message": "x=0.559 y=0.694",
            "_model_module": "jupyter-matplotlib",
            "_model_module_version": "^0.11",
            "_model_name": "MPLCanvasModel",
            "_rubberband_height": 0,
            "_rubberband_width": 0,
            "_rubberband_x": 0,
            "_rubberband_y": 0,
            "_size": [
              576,
              288
            ],
            "_view_count": null,
            "_view_module": "jupyter-matplotlib",
            "_view_module_version": "^0.11",
            "_view_name": "MPLCanvasView",
            "capture_scroll": false,
            "footer_visible": true,
            "header_visible": true,
            "layout": "IPY_MODEL_19b57f83efdc44be8482fb1c5b2f6800",
            "pan_zoom_throttle": 33,
            "resizable": true,
            "toolbar": "IPY_MODEL_095e9e4e40584347928936e94481085d",
            "toolbar_position": "left",
            "toolbar_visible": "fade-in-fade-out"
          }
        },
        "abbe22be1b454fb58777de52439e1864": {
          "model_module": "@jupyter-widgets/base",
          "model_name": "LayoutModel",
          "model_module_version": "1.2.0",
          "state": {
            "_model_module": "@jupyter-widgets/base",
            "_model_module_version": "1.2.0",
            "_model_name": "LayoutModel",
            "_view_count": null,
            "_view_module": "@jupyter-widgets/base",
            "_view_module_version": "1.2.0",
            "_view_name": "LayoutView",
            "align_content": null,
            "align_items": null,
            "align_self": null,
            "border": null,
            "bottom": null,
            "display": null,
            "flex": null,
            "flex_flow": null,
            "grid_area": null,
            "grid_auto_columns": null,
            "grid_auto_flow": null,
            "grid_auto_rows": null,
            "grid_column": null,
            "grid_gap": null,
            "grid_row": null,
            "grid_template_areas": null,
            "grid_template_columns": null,
            "grid_template_rows": null,
            "height": null,
            "justify_content": null,
            "justify_items": null,
            "left": null,
            "margin": null,
            "max_height": null,
            "max_width": null,
            "min_height": null,
            "min_width": null,
            "object_fit": null,
            "object_position": null,
            "order": null,
            "overflow": null,
            "overflow_x": null,
            "overflow_y": null,
            "padding": null,
            "right": null,
            "top": null,
            "visibility": null,
            "width": null
          }
        },
        "59ea1beddf824fc888776b19ed3538f4": {
          "model_module": "@jupyter-widgets/base",
          "model_name": "LayoutModel",
          "model_module_version": "1.2.0",
          "state": {
            "_model_module": "@jupyter-widgets/base",
            "_model_module_version": "1.2.0",
            "_model_name": "LayoutModel",
            "_view_count": null,
            "_view_module": "@jupyter-widgets/base",
            "_view_module_version": "1.2.0",
            "_view_name": "LayoutView",
            "align_content": null,
            "align_items": null,
            "align_self": null,
            "border": null,
            "bottom": null,
            "display": null,
            "flex": null,
            "flex_flow": null,
            "grid_area": null,
            "grid_auto_columns": null,
            "grid_auto_flow": null,
            "grid_auto_rows": null,
            "grid_column": null,
            "grid_gap": null,
            "grid_row": null,
            "grid_template_areas": null,
            "grid_template_columns": null,
            "grid_template_rows": null,
            "height": null,
            "justify_content": null,
            "justify_items": null,
            "left": null,
            "margin": null,
            "max_height": null,
            "max_width": null,
            "min_height": null,
            "min_width": null,
            "object_fit": null,
            "object_position": null,
            "order": null,
            "overflow": null,
            "overflow_x": null,
            "overflow_y": null,
            "padding": null,
            "right": null,
            "top": null,
            "visibility": null,
            "width": null
          }
        },
        "53ddd569af9947df94693f3059d55752": {
          "model_module": "jupyter-matplotlib",
          "model_name": "ToolbarModel",
          "model_module_version": "^0.11",
          "state": {
            "_current_action": "",
            "_dom_classes": [],
            "_model_module": "jupyter-matplotlib",
            "_model_module_version": "^0.11",
            "_model_name": "ToolbarModel",
            "_view_count": null,
            "_view_module": "jupyter-matplotlib",
            "_view_module_version": "^0.11",
            "_view_name": "ToolbarView",
            "button_style": "",
            "collapsed": true,
            "layout": "IPY_MODEL_59ea1beddf824fc888776b19ed3538f4",
            "orientation": "vertical",
            "toolitems": [
              [
                "Home",
                "Reset original view",
                "home",
                "home"
              ],
              [
                "Back",
                "Back to previous view",
                "arrow-left",
                "back"
              ],
              [
                "Forward",
                "Forward to next view",
                "arrow-right",
                "forward"
              ],
              [
                "Pan",
                "Left button pans, Right button zooms\nx/y fixes axis, CTRL fixes aspect",
                "arrows",
                "pan"
              ],
              [
                "Zoom",
                "Zoom to rectangle\nx/y fixes axis",
                "square-o",
                "zoom"
              ],
              [
                "Download",
                "Download plot",
                "floppy-o",
                "save_figure"
              ]
            ]
          }
        },
        "0777124155134b0dbafd38b7f314fb8c": {
          "model_module": "jupyter-matplotlib",
          "model_name": "MPLCanvasModel",
          "model_module_version": "^0.11",
          "state": {
            "_cursor": "default",
            "_data_url": "data:image/png;base64,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",
            "_dom_classes": [],
            "_figure_label": "Figure 2",
            "_image_mode": "diff",
            "_message": "x=0.522 y=0.040",
            "_model_module": "jupyter-matplotlib",
            "_model_module_version": "^0.11",
            "_model_name": "MPLCanvasModel",
            "_rubberband_height": 0,
            "_rubberband_width": 0,
            "_rubberband_x": 0,
            "_rubberband_y": 0,
            "_size": [
              576,
              288
            ],
            "_view_count": null,
            "_view_module": "jupyter-matplotlib",
            "_view_module_version": "^0.11",
            "_view_name": "MPLCanvasView",
            "capture_scroll": false,
            "footer_visible": true,
            "header_visible": true,
            "layout": "IPY_MODEL_abbe22be1b454fb58777de52439e1864",
            "pan_zoom_throttle": 33,
            "resizable": true,
            "toolbar": "IPY_MODEL_53ddd569af9947df94693f3059d55752",
            "toolbar_position": "left",
            "toolbar_visible": "fade-in-fade-out"
          }
        },
        "19913880f9324301bdc552a9984054c9": {
          "model_module": "@jupyter-widgets/base",
          "model_name": "LayoutModel",
          "model_module_version": "1.2.0",
          "state": {
            "_model_module": "@jupyter-widgets/base",
            "_model_module_version": "1.2.0",
            "_model_name": "LayoutModel",
            "_view_count": null,
            "_view_module": "@jupyter-widgets/base",
            "_view_module_version": "1.2.0",
            "_view_name": "LayoutView",
            "align_content": null,
            "align_items": null,
            "align_self": null,
            "border": null,
            "bottom": null,
            "display": null,
            "flex": null,
            "flex_flow": null,
            "grid_area": null,
            "grid_auto_columns": null,
            "grid_auto_flow": null,
            "grid_auto_rows": null,
            "grid_column": null,
            "grid_gap": null,
            "grid_row": null,
            "grid_template_areas": null,
            "grid_template_columns": null,
            "grid_template_rows": null,
            "height": null,
            "justify_content": null,
            "justify_items": null,
            "left": null,
            "margin": null,
            "max_height": null,
            "max_width": null,
            "min_height": null,
            "min_width": null,
            "object_fit": null,
            "object_position": null,
            "order": null,
            "overflow": null,
            "overflow_x": null,
            "overflow_y": null,
            "padding": null,
            "right": null,
            "top": null,
            "visibility": null,
            "width": null
          }
        },
        "0d50e850e4cd41af86fff2e863bb1cf8": {
          "model_module": "@jupyter-widgets/base",
          "model_name": "LayoutModel",
          "model_module_version": "1.2.0",
          "state": {
            "_model_module": "@jupyter-widgets/base",
            "_model_module_version": "1.2.0",
            "_model_name": "LayoutModel",
            "_view_count": null,
            "_view_module": "@jupyter-widgets/base",
            "_view_module_version": "1.2.0",
            "_view_name": "LayoutView",
            "align_content": null,
            "align_items": null,
            "align_self": null,
            "border": null,
            "bottom": null,
            "display": null,
            "flex": null,
            "flex_flow": null,
            "grid_area": null,
            "grid_auto_columns": null,
            "grid_auto_flow": null,
            "grid_auto_rows": null,
            "grid_column": null,
            "grid_gap": null,
            "grid_row": null,
            "grid_template_areas": null,
            "grid_template_columns": null,
            "grid_template_rows": null,
            "height": null,
            "justify_content": null,
            "justify_items": null,
            "left": null,
            "margin": null,
            "max_height": null,
            "max_width": null,
            "min_height": null,
            "min_width": null,
            "object_fit": null,
            "object_position": null,
            "order": null,
            "overflow": null,
            "overflow_x": null,
            "overflow_y": null,
            "padding": null,
            "right": null,
            "top": null,
            "visibility": null,
            "width": null
          }
        },
        "34ce6765eeba4b90baf2549b178c5102": {
          "model_module": "jupyter-matplotlib",
          "model_name": "ToolbarModel",
          "model_module_version": "^0.11",
          "state": {
            "_current_action": "",
            "_dom_classes": [],
            "_model_module": "jupyter-matplotlib",
            "_model_module_version": "^0.11",
            "_model_name": "ToolbarModel",
            "_view_count": null,
            "_view_module": "jupyter-matplotlib",
            "_view_module_version": "^0.11",
            "_view_name": "ToolbarView",
            "button_style": "",
            "collapsed": true,
            "layout": "IPY_MODEL_0d50e850e4cd41af86fff2e863bb1cf8",
            "orientation": "vertical",
            "toolitems": [
              [
                "Home",
                "Reset original view",
                "home",
                "home"
              ],
              [
                "Back",
                "Back to previous view",
                "arrow-left",
                "back"
              ],
              [
                "Forward",
                "Forward to next view",
                "arrow-right",
                "forward"
              ],
              [
                "Pan",
                "Left button pans, Right button zooms\nx/y fixes axis, CTRL fixes aspect",
                "arrows",
                "pan"
              ],
              [
                "Zoom",
                "Zoom to rectangle\nx/y fixes axis",
                "square-o",
                "zoom"
              ],
              [
                "Download",
                "Download plot",
                "floppy-o",
                "save_figure"
              ]
            ]
          }
        },
        "0c4a63e11a2b4e09b3b347e901973f30": {
          "model_module": "jupyter-matplotlib",
          "model_name": "MPLCanvasModel",
          "model_module_version": "^0.11",
          "state": {
            "_cursor": "pointer",
            "_data_url": "data:image/png;base64,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",
            "_dom_classes": [],
            "_figure_label": "Figure 3",
            "_image_mode": "diff",
            "_message": "",
            "_model_module": "jupyter-matplotlib",
            "_model_module_version": "^0.11",
            "_model_name": "MPLCanvasModel",
            "_rubberband_height": 0,
            "_rubberband_width": 0,
            "_rubberband_x": 0,
            "_rubberband_y": 0,
            "_size": [
              576,
              288
            ],
            "_view_count": null,
            "_view_module": "jupyter-matplotlib",
            "_view_module_version": "^0.11",
            "_view_name": "MPLCanvasView",
            "capture_scroll": false,
            "footer_visible": true,
            "header_visible": true,
            "layout": "IPY_MODEL_19913880f9324301bdc552a9984054c9",
            "pan_zoom_throttle": 33,
            "resizable": true,
            "toolbar": "IPY_MODEL_34ce6765eeba4b90baf2549b178c5102",
            "toolbar_position": "left",
            "toolbar_visible": "fade-in-fade-out"
          }
        },
        "a3c005eb2dbc439da4457d75a564cf38": {
          "model_module": "@jupyter-widgets/base",
          "model_name": "LayoutModel",
          "model_module_version": "1.2.0",
          "state": {
            "_model_module": "@jupyter-widgets/base",
            "_model_module_version": "1.2.0",
            "_model_name": "LayoutModel",
            "_view_count": null,
            "_view_module": "@jupyter-widgets/base",
            "_view_module_version": "1.2.0",
            "_view_name": "LayoutView",
            "align_content": null,
            "align_items": null,
            "align_self": null,
            "border": null,
            "bottom": null,
            "display": null,
            "flex": null,
            "flex_flow": null,
            "grid_area": null,
            "grid_auto_columns": null,
            "grid_auto_flow": null,
            "grid_auto_rows": null,
            "grid_column": null,
            "grid_gap": null,
            "grid_row": null,
            "grid_template_areas": null,
            "grid_template_columns": null,
            "grid_template_rows": null,
            "height": null,
            "justify_content": null,
            "justify_items": null,
            "left": null,
            "margin": null,
            "max_height": null,
            "max_width": null,
            "min_height": null,
            "min_width": null,
            "object_fit": null,
            "object_position": null,
            "order": null,
            "overflow": null,
            "overflow_x": null,
            "overflow_y": null,
            "padding": null,
            "right": null,
            "top": null,
            "visibility": null,
            "width": null
          }
        },
        "52c7f9f565cd4d10bd9ac081631ac9ad": {
          "model_module": "@jupyter-widgets/base",
          "model_name": "LayoutModel",
          "model_module_version": "1.2.0",
          "state": {
            "_model_module": "@jupyter-widgets/base",
            "_model_module_version": "1.2.0",
            "_model_name": "LayoutModel",
            "_view_count": null,
            "_view_module": "@jupyter-widgets/base",
            "_view_module_version": "1.2.0",
            "_view_name": "LayoutView",
            "align_content": null,
            "align_items": null,
            "align_self": null,
            "border": null,
            "bottom": null,
            "display": null,
            "flex": null,
            "flex_flow": null,
            "grid_area": null,
            "grid_auto_columns": null,
            "grid_auto_flow": null,
            "grid_auto_rows": null,
            "grid_column": null,
            "grid_gap": null,
            "grid_row": null,
            "grid_template_areas": null,
            "grid_template_columns": null,
            "grid_template_rows": null,
            "height": null,
            "justify_content": null,
            "justify_items": null,
            "left": null,
            "margin": null,
            "max_height": null,
            "max_width": null,
            "min_height": null,
            "min_width": null,
            "object_fit": null,
            "object_position": null,
            "order": null,
            "overflow": null,
            "overflow_x": null,
            "overflow_y": null,
            "padding": null,
            "right": null,
            "top": null,
            "visibility": null,
            "width": null
          }
        },
        "d6c0957b2eba4de58eda32de61b9f95b": {
          "model_module": "jupyter-matplotlib",
          "model_name": "MPLCanvasModel",
          "model_module_version": "^0.11",
          "state": {
            "_cursor": "pointer",
            "_data_url": "data:image/png;base64,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",
            "_dom_classes": [],
            "_figure_label": "Figure 4",
            "_image_mode": "diff",
            "_message": "",
            "_model_module": "jupyter-matplotlib",
            "_model_module_version": "^0.11",
            "_model_name": "MPLCanvasModel",
            "_rubberband_height": 0,
            "_rubberband_width": 0,
            "_rubberband_x": 0,
            "_rubberband_y": 0,
            "_size": [
              576,
              288
            ],
            "_view_count": null,
            "_view_module": "jupyter-matplotlib",
            "_view_module_version": "^0.11",
            "_view_name": "MPLCanvasView",
            "capture_scroll": false,
            "footer_visible": true,
            "header_visible": true,
            "layout": "IPY_MODEL_a3c005eb2dbc439da4457d75a564cf38",
            "pan_zoom_throttle": 33,
            "resizable": true,
            "toolbar": "IPY_MODEL_c4222e0d136b4cbf8eb3867c8acdc010",
            "toolbar_position": "left",
            "toolbar_visible": "fade-in-fade-out"
          }
        },
        "c4222e0d136b4cbf8eb3867c8acdc010": {
          "model_module": "jupyter-matplotlib",
          "model_name": "ToolbarModel",
          "model_module_version": "^0.11",
          "state": {
            "_current_action": "",
            "_dom_classes": [],
            "_model_module": "jupyter-matplotlib",
            "_model_module_version": "^0.11",
            "_model_name": "ToolbarModel",
            "_view_count": null,
            "_view_module": "jupyter-matplotlib",
            "_view_module_version": "^0.11",
            "_view_name": "ToolbarView",
            "button_style": "",
            "collapsed": true,
            "layout": "IPY_MODEL_52c7f9f565cd4d10bd9ac081631ac9ad",
            "orientation": "vertical",
            "toolitems": [
              [
                "Home",
                "Reset original view",
                "home",
                "home"
              ],
              [
                "Back",
                "Back to previous view",
                "arrow-left",
                "back"
              ],
              [
                "Forward",
                "Forward to next view",
                "arrow-right",
                "forward"
              ],
              [
                "Pan",
                "Left button pans, Right button zooms\nx/y fixes axis, CTRL fixes aspect",
                "arrows",
                "pan"
              ],
              [
                "Zoom",
                "Zoom to rectangle\nx/y fixes axis",
                "square-o",
                "zoom"
              ],
              [
                "Download",
                "Download plot",
                "floppy-o",
                "save_figure"
              ]
            ]
          }
        },
        "a2cf8189899940e88f119d62967056ea": {
          "model_module": "@jupyter-widgets/base",
          "model_name": "LayoutModel",
          "model_module_version": "1.2.0",
          "state": {
            "_model_module": "@jupyter-widgets/base",
            "_model_module_version": "1.2.0",
            "_model_name": "LayoutModel",
            "_view_count": null,
            "_view_module": "@jupyter-widgets/base",
            "_view_module_version": "1.2.0",
            "_view_name": "LayoutView",
            "align_content": null,
            "align_items": null,
            "align_self": null,
            "border": null,
            "bottom": null,
            "display": null,
            "flex": null,
            "flex_flow": null,
            "grid_area": null,
            "grid_auto_columns": null,
            "grid_auto_flow": null,
            "grid_auto_rows": null,
            "grid_column": null,
            "grid_gap": null,
            "grid_row": null,
            "grid_template_areas": null,
            "grid_template_columns": null,
            "grid_template_rows": null,
            "height": null,
            "justify_content": null,
            "justify_items": null,
            "left": null,
            "margin": null,
            "max_height": null,
            "max_width": null,
            "min_height": null,
            "min_width": null,
            "object_fit": null,
            "object_position": null,
            "order": null,
            "overflow": null,
            "overflow_x": null,
            "overflow_y": null,
            "padding": null,
            "right": null,
            "top": null,
            "visibility": null,
            "width": null
          }
        },
        "d7181c0be36f47c28fe83e4b2d1373d5": {
          "model_module": "@jupyter-widgets/base",
          "model_name": "LayoutModel",
          "model_module_version": "1.2.0",
          "state": {
            "_model_module": "@jupyter-widgets/base",
            "_model_module_version": "1.2.0",
            "_model_name": "LayoutModel",
            "_view_count": null,
            "_view_module": "@jupyter-widgets/base",
            "_view_module_version": "1.2.0",
            "_view_name": "LayoutView",
            "align_content": null,
            "align_items": null,
            "align_self": null,
            "border": null,
            "bottom": null,
            "display": null,
            "flex": null,
            "flex_flow": null,
            "grid_area": null,
            "grid_auto_columns": null,
            "grid_auto_flow": null,
            "grid_auto_rows": null,
            "grid_column": null,
            "grid_gap": null,
            "grid_row": null,
            "grid_template_areas": null,
            "grid_template_columns": null,
            "grid_template_rows": null,
            "height": null,
            "justify_content": null,
            "justify_items": null,
            "left": null,
            "margin": null,
            "max_height": null,
            "max_width": null,
            "min_height": null,
            "min_width": null,
            "object_fit": null,
            "object_position": null,
            "order": null,
            "overflow": null,
            "overflow_x": null,
            "overflow_y": null,
            "padding": null,
            "right": null,
            "top": null,
            "visibility": null,
            "width": null
          }
        },
        "8e3291795b5d41faa0e269c3cac90bd0": {
          "model_module": "jupyter-matplotlib",
          "model_name": "ToolbarModel",
          "model_module_version": "^0.11",
          "state": {
            "_current_action": "",
            "_dom_classes": [],
            "_model_module": "jupyter-matplotlib",
            "_model_module_version": "^0.11",
            "_model_name": "ToolbarModel",
            "_view_count": null,
            "_view_module": "jupyter-matplotlib",
            "_view_module_version": "^0.11",
            "_view_name": "ToolbarView",
            "button_style": "",
            "collapsed": true,
            "layout": "IPY_MODEL_d7181c0be36f47c28fe83e4b2d1373d5",
            "orientation": "vertical",
            "toolitems": [
              [
                "Home",
                "Reset original view",
                "home",
                "home"
              ],
              [
                "Back",
                "Back to previous view",
                "arrow-left",
                "back"
              ],
              [
                "Forward",
                "Forward to next view",
                "arrow-right",
                "forward"
              ],
              [
                "Pan",
                "Left button pans, Right button zooms\nx/y fixes axis, CTRL fixes aspect",
                "arrows",
                "pan"
              ],
              [
                "Zoom",
                "Zoom to rectangle\nx/y fixes axis",
                "square-o",
                "zoom"
              ],
              [
                "Download",
                "Download plot",
                "floppy-o",
                "save_figure"
              ]
            ]
          }
        },
        "19f8803a479745e6b62e0e37b4aa4807": {
          "model_module": "jupyter-matplotlib",
          "model_name": "MPLCanvasModel",
          "model_module_version": "^0.11",
          "state": {
            "_cursor": "default",
            "_data_url": "data:image/png;base64,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",
            "_dom_classes": [],
            "_figure_label": "Figure 5",
            "_image_mode": "diff",
            "_message": "",
            "_model_module": "jupyter-matplotlib",
            "_model_module_version": "^0.11",
            "_model_name": "MPLCanvasModel",
            "_rubberband_height": 0,
            "_rubberband_width": 0,
            "_rubberband_x": 0,
            "_rubberband_y": 0,
            "_size": [
              576,
              288
            ],
            "_view_count": null,
            "_view_module": "jupyter-matplotlib",
            "_view_module_version": "^0.11",
            "_view_name": "MPLCanvasView",
            "capture_scroll": false,
            "footer_visible": true,
            "header_visible": true,
            "layout": "IPY_MODEL_a2cf8189899940e88f119d62967056ea",
            "pan_zoom_throttle": 33,
            "resizable": true,
            "toolbar": "IPY_MODEL_8e3291795b5d41faa0e269c3cac90bd0",
            "toolbar_position": "left",
            "toolbar_visible": "fade-in-fade-out"
          }
        }
      }
    }
  },
  "cells": [
    {
      "cell_type": "code",
      "execution_count": 1,
      "metadata": {
        "id": "DyG5Gb9mFoiC",
        "colab": {
          "base_uri": "https://localhost:8080/"
        },
        "outputId": "0891802b-eaf8-4552-c4f5-1615b6699bfb"
      },
      "outputs": [
        {
          "output_type": "stream",
          "name": "stdout",
          "text": [
            "Looking in indexes: https://pypi.org/simple, https://us-python.pkg.dev/colab-wheels/public/simple/\n",
            "Requirement already satisfied: ipywidgets in /usr/local/lib/python3.9/dist-packages (7.7.1)\n",
            "Requirement already satisfied: ipykernel>=4.5.1 in /usr/local/lib/python3.9/dist-packages (from ipywidgets) (5.3.4)\n",
            "Requirement already satisfied: traitlets>=4.3.1 in /usr/local/lib/python3.9/dist-packages (from ipywidgets) (5.7.1)\n",
            "Requirement already satisfied: widgetsnbextension~=3.6.0 in /usr/local/lib/python3.9/dist-packages (from ipywidgets) (3.6.3)\n",
            "Requirement already satisfied: jupyterlab-widgets>=1.0.0 in /usr/local/lib/python3.9/dist-packages (from ipywidgets) (3.0.6)\n",
            "Requirement already satisfied: ipython>=4.0.0 in /usr/local/lib/python3.9/dist-packages (from ipywidgets) (7.9.0)\n",
            "Requirement already satisfied: ipython-genutils~=0.2.0 in /usr/local/lib/python3.9/dist-packages (from ipywidgets) (0.2.0)\n",
            "Requirement already satisfied: jupyter-client in /usr/local/lib/python3.9/dist-packages (from ipykernel>=4.5.1->ipywidgets) (6.1.12)\n",
            "Requirement already satisfied: tornado>=4.2 in /usr/local/lib/python3.9/dist-packages (from ipykernel>=4.5.1->ipywidgets) (6.2)\n",
            "Requirement already satisfied: prompt-toolkit<2.1.0,>=2.0.0 in /usr/local/lib/python3.9/dist-packages (from ipython>=4.0.0->ipywidgets) (2.0.10)\n",
            "Requirement already satisfied: pickleshare in /usr/local/lib/python3.9/dist-packages (from ipython>=4.0.0->ipywidgets) (0.7.5)\n",
            "Requirement already satisfied: setuptools>=18.5 in /usr/local/lib/python3.9/dist-packages (from ipython>=4.0.0->ipywidgets) (67.6.0)\n",
            "Requirement already satisfied: backcall in /usr/local/lib/python3.9/dist-packages (from ipython>=4.0.0->ipywidgets) (0.2.0)\n",
            "Requirement already satisfied: decorator in /usr/local/lib/python3.9/dist-packages (from ipython>=4.0.0->ipywidgets) (4.4.2)\n",
            "Collecting jedi>=0.10\n",
            "  Downloading jedi-0.18.2-py2.py3-none-any.whl (1.6 MB)\n",
            "\u001b[2K     \u001b[90m━━━━━━━━━━━━━━━━━━━━━━━━━━━━━━━━━━━━━━━━\u001b[0m \u001b[32m1.6/1.6 MB\u001b[0m \u001b[31m19.7 MB/s\u001b[0m eta \u001b[36m0:00:00\u001b[0m\n",
            "\u001b[?25hRequirement already satisfied: pexpect in /usr/local/lib/python3.9/dist-packages (from ipython>=4.0.0->ipywidgets) (4.8.0)\n",
            "Requirement already satisfied: pygments in /usr/local/lib/python3.9/dist-packages (from ipython>=4.0.0->ipywidgets) (2.14.0)\n",
            "Requirement already satisfied: notebook>=4.4.1 in /usr/local/lib/python3.9/dist-packages (from widgetsnbextension~=3.6.0->ipywidgets) (6.3.0)\n",
            "Requirement already satisfied: parso<0.9.0,>=0.8.0 in /usr/local/lib/python3.9/dist-packages (from jedi>=0.10->ipython>=4.0.0->ipywidgets) (0.8.3)\n",
            "Requirement already satisfied: prometheus-client in /usr/local/lib/python3.9/dist-packages (from notebook>=4.4.1->widgetsnbextension~=3.6.0->ipywidgets) (0.16.0)\n",
            "Requirement already satisfied: jinja2 in /usr/local/lib/python3.9/dist-packages (from notebook>=4.4.1->widgetsnbextension~=3.6.0->ipywidgets) (3.1.2)\n",
            "Requirement already satisfied: jupyter-core>=4.6.1 in /usr/local/lib/python3.9/dist-packages (from notebook>=4.4.1->widgetsnbextension~=3.6.0->ipywidgets) (5.3.0)\n",
            "Requirement already satisfied: nbformat in /usr/local/lib/python3.9/dist-packages (from notebook>=4.4.1->widgetsnbextension~=3.6.0->ipywidgets) (5.8.0)\n",
            "Requirement already satisfied: terminado>=0.8.3 in /usr/local/lib/python3.9/dist-packages (from notebook>=4.4.1->widgetsnbextension~=3.6.0->ipywidgets) (0.17.1)\n",
            "Requirement already satisfied: nbconvert in /usr/local/lib/python3.9/dist-packages (from notebook>=4.4.1->widgetsnbextension~=3.6.0->ipywidgets) (6.5.4)\n",
            "Requirement already satisfied: Send2Trash>=1.5.0 in /usr/local/lib/python3.9/dist-packages (from notebook>=4.4.1->widgetsnbextension~=3.6.0->ipywidgets) (1.8.0)\n",
            "Requirement already satisfied: argon2-cffi in /usr/local/lib/python3.9/dist-packages (from notebook>=4.4.1->widgetsnbextension~=3.6.0->ipywidgets) (21.3.0)\n",
            "Requirement already satisfied: pyzmq>=17 in /usr/local/lib/python3.9/dist-packages (from notebook>=4.4.1->widgetsnbextension~=3.6.0->ipywidgets) (23.2.1)\n",
            "Requirement already satisfied: python-dateutil>=2.1 in /usr/local/lib/python3.9/dist-packages (from jupyter-client->ipykernel>=4.5.1->ipywidgets) (2.8.2)\n",
            "Requirement already satisfied: wcwidth in /usr/local/lib/python3.9/dist-packages (from prompt-toolkit<2.1.0,>=2.0.0->ipython>=4.0.0->ipywidgets) (0.2.6)\n",
            "Requirement already satisfied: six>=1.9.0 in /usr/local/lib/python3.9/dist-packages (from prompt-toolkit<2.1.0,>=2.0.0->ipython>=4.0.0->ipywidgets) (1.16.0)\n",
            "Requirement already satisfied: ptyprocess>=0.5 in /usr/local/lib/python3.9/dist-packages (from pexpect->ipython>=4.0.0->ipywidgets) (0.7.0)\n",
            "Requirement already satisfied: platformdirs>=2.5 in /usr/local/lib/python3.9/dist-packages (from jupyter-core>=4.6.1->notebook>=4.4.1->widgetsnbextension~=3.6.0->ipywidgets) (3.1.1)\n",
            "Requirement already satisfied: argon2-cffi-bindings in /usr/local/lib/python3.9/dist-packages (from argon2-cffi->notebook>=4.4.1->widgetsnbextension~=3.6.0->ipywidgets) (21.2.0)\n",
            "Requirement already satisfied: MarkupSafe>=2.0 in /usr/local/lib/python3.9/dist-packages (from jinja2->notebook>=4.4.1->widgetsnbextension~=3.6.0->ipywidgets) (2.1.2)\n",
            "Requirement already satisfied: mistune<2,>=0.8.1 in /usr/local/lib/python3.9/dist-packages (from nbconvert->notebook>=4.4.1->widgetsnbextension~=3.6.0->ipywidgets) (0.8.4)\n",
            "Requirement already satisfied: defusedxml in /usr/local/lib/python3.9/dist-packages (from nbconvert->notebook>=4.4.1->widgetsnbextension~=3.6.0->ipywidgets) (0.7.1)\n",
            "Requirement already satisfied: jupyterlab-pygments in /usr/local/lib/python3.9/dist-packages (from nbconvert->notebook>=4.4.1->widgetsnbextension~=3.6.0->ipywidgets) (0.2.2)\n",
            "Requirement already satisfied: lxml in /usr/local/lib/python3.9/dist-packages (from nbconvert->notebook>=4.4.1->widgetsnbextension~=3.6.0->ipywidgets) (4.9.2)\n",
            "Requirement already satisfied: entrypoints>=0.2.2 in /usr/local/lib/python3.9/dist-packages (from nbconvert->notebook>=4.4.1->widgetsnbextension~=3.6.0->ipywidgets) (0.4)\n",
            "Requirement already satisfied: bleach in /usr/local/lib/python3.9/dist-packages (from nbconvert->notebook>=4.4.1->widgetsnbextension~=3.6.0->ipywidgets) (6.0.0)\n",
            "Requirement already satisfied: beautifulsoup4 in /usr/local/lib/python3.9/dist-packages (from nbconvert->notebook>=4.4.1->widgetsnbextension~=3.6.0->ipywidgets) (4.11.2)\n",
            "Requirement already satisfied: nbclient>=0.5.0 in /usr/local/lib/python3.9/dist-packages (from nbconvert->notebook>=4.4.1->widgetsnbextension~=3.6.0->ipywidgets) (0.7.2)\n",
            "Requirement already satisfied: tinycss2 in /usr/local/lib/python3.9/dist-packages (from nbconvert->notebook>=4.4.1->widgetsnbextension~=3.6.0->ipywidgets) (1.2.1)\n",
            "Requirement already satisfied: pandocfilters>=1.4.1 in /usr/local/lib/python3.9/dist-packages (from nbconvert->notebook>=4.4.1->widgetsnbextension~=3.6.0->ipywidgets) (1.5.0)\n",
            "Requirement already satisfied: packaging in /usr/local/lib/python3.9/dist-packages (from nbconvert->notebook>=4.4.1->widgetsnbextension~=3.6.0->ipywidgets) (23.0)\n",
            "Requirement already satisfied: jsonschema>=2.6 in /usr/local/lib/python3.9/dist-packages (from nbformat->notebook>=4.4.1->widgetsnbextension~=3.6.0->ipywidgets) (4.3.3)\n",
            "Requirement already satisfied: fastjsonschema in /usr/local/lib/python3.9/dist-packages (from nbformat->notebook>=4.4.1->widgetsnbextension~=3.6.0->ipywidgets) (2.16.3)\n",
            "Requirement already satisfied: pyrsistent!=0.17.0,!=0.17.1,!=0.17.2,>=0.14.0 in /usr/local/lib/python3.9/dist-packages (from jsonschema>=2.6->nbformat->notebook>=4.4.1->widgetsnbextension~=3.6.0->ipywidgets) (0.19.3)\n",
            "Requirement already satisfied: attrs>=17.4.0 in /usr/local/lib/python3.9/dist-packages (from jsonschema>=2.6->nbformat->notebook>=4.4.1->widgetsnbextension~=3.6.0->ipywidgets) (22.2.0)\n",
            "Requirement already satisfied: cffi>=1.0.1 in /usr/local/lib/python3.9/dist-packages (from argon2-cffi-bindings->argon2-cffi->notebook>=4.4.1->widgetsnbextension~=3.6.0->ipywidgets) (1.15.1)\n",
            "Requirement already satisfied: soupsieve>1.2 in /usr/local/lib/python3.9/dist-packages (from beautifulsoup4->nbconvert->notebook>=4.4.1->widgetsnbextension~=3.6.0->ipywidgets) (2.4)\n",
            "Requirement already satisfied: webencodings in /usr/local/lib/python3.9/dist-packages (from bleach->nbconvert->notebook>=4.4.1->widgetsnbextension~=3.6.0->ipywidgets) (0.5.1)\n",
            "Requirement already satisfied: pycparser in /usr/local/lib/python3.9/dist-packages (from cffi>=1.0.1->argon2-cffi-bindings->argon2-cffi->notebook>=4.4.1->widgetsnbextension~=3.6.0->ipywidgets) (2.21)\n",
            "Installing collected packages: jedi\n",
            "Successfully installed jedi-0.18.2\n",
            "Looking in indexes: https://pypi.org/simple, https://us-python.pkg.dev/colab-wheels/public/simple/\n",
            "Collecting ipympl\n",
            "  Downloading ipympl-0.9.3-py2.py3-none-any.whl (511 kB)\n",
            "\u001b[2K     \u001b[90m━━━━━━━━━━━━━━━━━━━━━━━━━━━━━━━━━━━━━━━\u001b[0m \u001b[32m511.6/511.6 KB\u001b[0m \u001b[31m4.7 MB/s\u001b[0m eta \u001b[36m0:00:00\u001b[0m\n",
            "\u001b[?25hRequirement already satisfied: ipywidgets<9,>=7.6.0 in /usr/local/lib/python3.9/dist-packages (from ipympl) (7.7.1)\n",
            "Requirement already satisfied: numpy in /usr/local/lib/python3.9/dist-packages (from ipympl) (1.22.4)\n",
            "Requirement already satisfied: ipython<9 in /usr/local/lib/python3.9/dist-packages (from ipympl) (7.9.0)\n",
            "Requirement already satisfied: ipython-genutils in /usr/local/lib/python3.9/dist-packages (from ipympl) (0.2.0)\n",
            "Requirement already satisfied: pillow in /usr/local/lib/python3.9/dist-packages (from ipympl) (8.4.0)\n",
            "Requirement already satisfied: matplotlib<4,>=3.4.0 in /usr/local/lib/python3.9/dist-packages (from ipympl) (3.7.1)\n",
            "Requirement already satisfied: traitlets<6 in /usr/local/lib/python3.9/dist-packages (from ipympl) (5.7.1)\n",
            "Requirement already satisfied: prompt-toolkit<2.1.0,>=2.0.0 in /usr/local/lib/python3.9/dist-packages (from ipython<9->ipympl) (2.0.10)\n",
            "Requirement already satisfied: backcall in /usr/local/lib/python3.9/dist-packages (from ipython<9->ipympl) (0.2.0)\n",
            "Requirement already satisfied: pygments in /usr/local/lib/python3.9/dist-packages (from ipython<9->ipympl) (2.14.0)\n",
            "Requirement already satisfied: setuptools>=18.5 in /usr/local/lib/python3.9/dist-packages (from ipython<9->ipympl) (67.6.0)\n",
            "Requirement already satisfied: pickleshare in /usr/local/lib/python3.9/dist-packages (from ipython<9->ipympl) (0.7.5)\n",
            "Requirement already satisfied: decorator in /usr/local/lib/python3.9/dist-packages (from ipython<9->ipympl) (4.4.2)\n",
            "Requirement already satisfied: pexpect in /usr/local/lib/python3.9/dist-packages (from ipython<9->ipympl) (4.8.0)\n",
            "Requirement already satisfied: jedi>=0.10 in /usr/local/lib/python3.9/dist-packages (from ipython<9->ipympl) (0.18.2)\n",
            "Requirement already satisfied: ipykernel>=4.5.1 in /usr/local/lib/python3.9/dist-packages (from ipywidgets<9,>=7.6.0->ipympl) (5.3.4)\n",
            "Requirement already satisfied: widgetsnbextension~=3.6.0 in /usr/local/lib/python3.9/dist-packages (from ipywidgets<9,>=7.6.0->ipympl) (3.6.3)\n",
            "Requirement already satisfied: jupyterlab-widgets>=1.0.0 in /usr/local/lib/python3.9/dist-packages (from ipywidgets<9,>=7.6.0->ipympl) (3.0.6)\n",
            "Requirement already satisfied: fonttools>=4.22.0 in /usr/local/lib/python3.9/dist-packages (from matplotlib<4,>=3.4.0->ipympl) (4.39.2)\n",
            "Requirement already satisfied: python-dateutil>=2.7 in /usr/local/lib/python3.9/dist-packages (from matplotlib<4,>=3.4.0->ipympl) (2.8.2)\n",
            "Requirement already satisfied: importlib-resources>=3.2.0 in /usr/local/lib/python3.9/dist-packages (from matplotlib<4,>=3.4.0->ipympl) (5.12.0)\n",
            "Requirement already satisfied: cycler>=0.10 in /usr/local/lib/python3.9/dist-packages (from matplotlib<4,>=3.4.0->ipympl) (0.11.0)\n",
            "Requirement already satisfied: pyparsing>=2.3.1 in /usr/local/lib/python3.9/dist-packages (from matplotlib<4,>=3.4.0->ipympl) (3.0.9)\n",
            "Requirement already satisfied: contourpy>=1.0.1 in /usr/local/lib/python3.9/dist-packages (from matplotlib<4,>=3.4.0->ipympl) (1.0.7)\n",
            "Requirement already satisfied: packaging>=20.0 in /usr/local/lib/python3.9/dist-packages (from matplotlib<4,>=3.4.0->ipympl) (23.0)\n",
            "Requirement already satisfied: kiwisolver>=1.0.1 in /usr/local/lib/python3.9/dist-packages (from matplotlib<4,>=3.4.0->ipympl) (1.4.4)\n",
            "Requirement already satisfied: zipp>=3.1.0 in /usr/local/lib/python3.9/dist-packages (from importlib-resources>=3.2.0->matplotlib<4,>=3.4.0->ipympl) (3.15.0)\n",
            "Requirement already satisfied: jupyter-client in /usr/local/lib/python3.9/dist-packages (from ipykernel>=4.5.1->ipywidgets<9,>=7.6.0->ipympl) (6.1.12)\n",
            "Requirement already satisfied: tornado>=4.2 in /usr/local/lib/python3.9/dist-packages (from ipykernel>=4.5.1->ipywidgets<9,>=7.6.0->ipympl) (6.2)\n",
            "Requirement already satisfied: parso<0.9.0,>=0.8.0 in /usr/local/lib/python3.9/dist-packages (from jedi>=0.10->ipython<9->ipympl) (0.8.3)\n",
            "Requirement already satisfied: six>=1.9.0 in /usr/local/lib/python3.9/dist-packages (from prompt-toolkit<2.1.0,>=2.0.0->ipython<9->ipympl) (1.16.0)\n",
            "Requirement already satisfied: wcwidth in /usr/local/lib/python3.9/dist-packages (from prompt-toolkit<2.1.0,>=2.0.0->ipython<9->ipympl) (0.2.6)\n",
            "Requirement already satisfied: notebook>=4.4.1 in /usr/local/lib/python3.9/dist-packages (from widgetsnbextension~=3.6.0->ipywidgets<9,>=7.6.0->ipympl) (6.3.0)\n",
            "Requirement already satisfied: ptyprocess>=0.5 in /usr/local/lib/python3.9/dist-packages (from pexpect->ipython<9->ipympl) (0.7.0)\n",
            "Requirement already satisfied: prometheus-client in /usr/local/lib/python3.9/dist-packages (from notebook>=4.4.1->widgetsnbextension~=3.6.0->ipywidgets<9,>=7.6.0->ipympl) (0.16.0)\n",
            "Requirement already satisfied: nbformat in /usr/local/lib/python3.9/dist-packages (from notebook>=4.4.1->widgetsnbextension~=3.6.0->ipywidgets<9,>=7.6.0->ipympl) (5.8.0)\n",
            "Requirement already satisfied: jinja2 in /usr/local/lib/python3.9/dist-packages (from notebook>=4.4.1->widgetsnbextension~=3.6.0->ipywidgets<9,>=7.6.0->ipympl) (3.1.2)\n",
            "Requirement already satisfied: jupyter-core>=4.6.1 in /usr/local/lib/python3.9/dist-packages (from notebook>=4.4.1->widgetsnbextension~=3.6.0->ipywidgets<9,>=7.6.0->ipympl) (5.3.0)\n",
            "Requirement already satisfied: Send2Trash>=1.5.0 in /usr/local/lib/python3.9/dist-packages (from notebook>=4.4.1->widgetsnbextension~=3.6.0->ipywidgets<9,>=7.6.0->ipympl) (1.8.0)\n",
            "Requirement already satisfied: nbconvert in /usr/local/lib/python3.9/dist-packages (from notebook>=4.4.1->widgetsnbextension~=3.6.0->ipywidgets<9,>=7.6.0->ipympl) (6.5.4)\n",
            "Requirement already satisfied: argon2-cffi in /usr/local/lib/python3.9/dist-packages (from notebook>=4.4.1->widgetsnbextension~=3.6.0->ipywidgets<9,>=7.6.0->ipympl) (21.3.0)\n",
            "Requirement already satisfied: terminado>=0.8.3 in /usr/local/lib/python3.9/dist-packages (from notebook>=4.4.1->widgetsnbextension~=3.6.0->ipywidgets<9,>=7.6.0->ipympl) (0.17.1)\n",
            "Requirement already satisfied: pyzmq>=17 in /usr/local/lib/python3.9/dist-packages (from notebook>=4.4.1->widgetsnbextension~=3.6.0->ipywidgets<9,>=7.6.0->ipympl) (23.2.1)\n",
            "Requirement already satisfied: platformdirs>=2.5 in /usr/local/lib/python3.9/dist-packages (from jupyter-core>=4.6.1->notebook>=4.4.1->widgetsnbextension~=3.6.0->ipywidgets<9,>=7.6.0->ipympl) (3.1.1)\n",
            "Requirement already satisfied: argon2-cffi-bindings in /usr/local/lib/python3.9/dist-packages (from argon2-cffi->notebook>=4.4.1->widgetsnbextension~=3.6.0->ipywidgets<9,>=7.6.0->ipympl) (21.2.0)\n",
            "Requirement already satisfied: MarkupSafe>=2.0 in /usr/local/lib/python3.9/dist-packages (from jinja2->notebook>=4.4.1->widgetsnbextension~=3.6.0->ipywidgets<9,>=7.6.0->ipympl) (2.1.2)\n",
            "Requirement already satisfied: bleach in /usr/local/lib/python3.9/dist-packages (from nbconvert->notebook>=4.4.1->widgetsnbextension~=3.6.0->ipywidgets<9,>=7.6.0->ipympl) (6.0.0)\n",
            "Requirement already satisfied: tinycss2 in /usr/local/lib/python3.9/dist-packages (from nbconvert->notebook>=4.4.1->widgetsnbextension~=3.6.0->ipywidgets<9,>=7.6.0->ipympl) (1.2.1)\n",
            "Requirement already satisfied: mistune<2,>=0.8.1 in /usr/local/lib/python3.9/dist-packages (from nbconvert->notebook>=4.4.1->widgetsnbextension~=3.6.0->ipywidgets<9,>=7.6.0->ipympl) (0.8.4)\n",
            "Requirement already satisfied: entrypoints>=0.2.2 in /usr/local/lib/python3.9/dist-packages (from nbconvert->notebook>=4.4.1->widgetsnbextension~=3.6.0->ipywidgets<9,>=7.6.0->ipympl) (0.4)\n",
            "Requirement already satisfied: nbclient>=0.5.0 in /usr/local/lib/python3.9/dist-packages (from nbconvert->notebook>=4.4.1->widgetsnbextension~=3.6.0->ipywidgets<9,>=7.6.0->ipympl) (0.7.2)\n",
            "Requirement already satisfied: lxml in /usr/local/lib/python3.9/dist-packages (from nbconvert->notebook>=4.4.1->widgetsnbextension~=3.6.0->ipywidgets<9,>=7.6.0->ipympl) (4.9.2)\n",
            "Requirement already satisfied: pandocfilters>=1.4.1 in /usr/local/lib/python3.9/dist-packages (from nbconvert->notebook>=4.4.1->widgetsnbextension~=3.6.0->ipywidgets<9,>=7.6.0->ipympl) (1.5.0)\n",
            "Requirement already satisfied: jupyterlab-pygments in /usr/local/lib/python3.9/dist-packages (from nbconvert->notebook>=4.4.1->widgetsnbextension~=3.6.0->ipywidgets<9,>=7.6.0->ipympl) (0.2.2)\n",
            "Requirement already satisfied: beautifulsoup4 in /usr/local/lib/python3.9/dist-packages (from nbconvert->notebook>=4.4.1->widgetsnbextension~=3.6.0->ipywidgets<9,>=7.6.0->ipympl) (4.11.2)\n",
            "Requirement already satisfied: defusedxml in /usr/local/lib/python3.9/dist-packages (from nbconvert->notebook>=4.4.1->widgetsnbextension~=3.6.0->ipywidgets<9,>=7.6.0->ipympl) (0.7.1)\n",
            "Requirement already satisfied: fastjsonschema in /usr/local/lib/python3.9/dist-packages (from nbformat->notebook>=4.4.1->widgetsnbextension~=3.6.0->ipywidgets<9,>=7.6.0->ipympl) (2.16.3)\n",
            "Requirement already satisfied: jsonschema>=2.6 in /usr/local/lib/python3.9/dist-packages (from nbformat->notebook>=4.4.1->widgetsnbextension~=3.6.0->ipywidgets<9,>=7.6.0->ipympl) (4.3.3)\n",
            "Requirement already satisfied: attrs>=17.4.0 in /usr/local/lib/python3.9/dist-packages (from jsonschema>=2.6->nbformat->notebook>=4.4.1->widgetsnbextension~=3.6.0->ipywidgets<9,>=7.6.0->ipympl) (22.2.0)\n",
            "Requirement already satisfied: pyrsistent!=0.17.0,!=0.17.1,!=0.17.2,>=0.14.0 in /usr/local/lib/python3.9/dist-packages (from jsonschema>=2.6->nbformat->notebook>=4.4.1->widgetsnbextension~=3.6.0->ipywidgets<9,>=7.6.0->ipympl) (0.19.3)\n",
            "Requirement already satisfied: cffi>=1.0.1 in /usr/local/lib/python3.9/dist-packages (from argon2-cffi-bindings->argon2-cffi->notebook>=4.4.1->widgetsnbextension~=3.6.0->ipywidgets<9,>=7.6.0->ipympl) (1.15.1)\n",
            "Requirement already satisfied: soupsieve>1.2 in /usr/local/lib/python3.9/dist-packages (from beautifulsoup4->nbconvert->notebook>=4.4.1->widgetsnbextension~=3.6.0->ipywidgets<9,>=7.6.0->ipympl) (2.4)\n",
            "Requirement already satisfied: webencodings in /usr/local/lib/python3.9/dist-packages (from bleach->nbconvert->notebook>=4.4.1->widgetsnbextension~=3.6.0->ipywidgets<9,>=7.6.0->ipympl) (0.5.1)\n",
            "Requirement already satisfied: pycparser in /usr/local/lib/python3.9/dist-packages (from cffi>=1.0.1->argon2-cffi-bindings->argon2-cffi->notebook>=4.4.1->widgetsnbextension~=3.6.0->ipywidgets<9,>=7.6.0->ipympl) (2.21)\n",
            "Installing collected packages: ipympl\n",
            "Successfully installed ipympl-0.9.3\n"
          ]
        }
      ],
      "source": [
        "!pip install ipywidgets\n",
        "!pip install ipympl"
      ]
    },
    {
      "cell_type": "code",
      "source": [
        "import pandas as pd\n",
        "import numpy as np\n",
        "\n",
        "import matplotlib.pyplot as plt\n",
        "import ipywidgets as widgets\n",
        "\n",
        "import warnings\n",
        "warnings.filterwarnings(\"ignore\")\n",
        "\n"
      ],
      "metadata": {
        "id": "kxQWWVz9GGw5"
      },
      "execution_count": 2,
      "outputs": []
    },
    {
      "cell_type": "code",
      "source": [
        "%matplotlib widget"
      ],
      "metadata": {
        "id": "psFKJjarG2Uf"
      },
      "execution_count": 3,
      "outputs": []
    },
    {
      "cell_type": "markdown",
      "source": [
        "# Reading the dataset"
      ],
      "metadata": {
        "id": "u6VzJR5KHzLC"
      }
    },
    {
      "cell_type": "code",
      "source": [
        "##Completed - Function to read excel file\n",
        "def read_excel(file_path):\n",
        "    \"\"\"\n",
        "    Reads an excel file into jupyter notebook as pandas dataframe\n",
        "    \n",
        "    Args:\n",
        "        file_path(str): dataset file path\n",
        "    \"\"\"\n",
        "    #read dataset file using pandas\n",
        "    data_df = pd.read_excel(file_path) # complete this line\n",
        "    \n",
        "    return data_df\n",
        "\n",
        "##TODO - replace filepath with your own dataset file path\n",
        "\n",
        "filepath = \"ENB2012_data.xlsx\"\n",
        "data_df = read_excel(filepath)\n",
        "\n",
        "data_df.head()"
      ],
      "metadata": {
        "id": "Pxoi-KZ2H5-l",
        "outputId": "aa4727b0-ca72-4186-bb56-a2c681ce801f",
        "colab": {
          "base_uri": "https://localhost:8080/",
          "height": 206
        }
      },
      "execution_count": 5,
      "outputs": [
        {
          "output_type": "execute_result",
          "data": {
            "text/plain": [
              "     X1     X2     X3      X4   X5  X6   X7  X8     Y1     Y2\n",
              "0  0.98  514.5  294.0  110.25  7.0   2  0.0   0  15.55  21.33\n",
              "1  0.98  514.5  294.0  110.25  7.0   3  0.0   0  15.55  21.33\n",
              "2  0.98  514.5  294.0  110.25  7.0   4  0.0   0  15.55  21.33\n",
              "3  0.98  514.5  294.0  110.25  7.0   5  0.0   0  15.55  21.33\n",
              "4  0.90  563.5  318.5  122.50  7.0   2  0.0   0  20.84  28.28"
            ],
            "text/html": [
              "\n",
              "  <div id=\"df-7e31b120-0530-4104-892b-07d161611284\">\n",
              "    <div class=\"colab-df-container\">\n",
              "      <div>\n",
              "<style scoped>\n",
              "    .dataframe tbody tr th:only-of-type {\n",
              "        vertical-align: middle;\n",
              "    }\n",
              "\n",
              "    .dataframe tbody tr th {\n",
              "        vertical-align: top;\n",
              "    }\n",
              "\n",
              "    .dataframe thead th {\n",
              "        text-align: right;\n",
              "    }\n",
              "</style>\n",
              "<table border=\"1\" class=\"dataframe\">\n",
              "  <thead>\n",
              "    <tr style=\"text-align: right;\">\n",
              "      <th></th>\n",
              "      <th>X1</th>\n",
              "      <th>X2</th>\n",
              "      <th>X3</th>\n",
              "      <th>X4</th>\n",
              "      <th>X5</th>\n",
              "      <th>X6</th>\n",
              "      <th>X7</th>\n",
              "      <th>X8</th>\n",
              "      <th>Y1</th>\n",
              "      <th>Y2</th>\n",
              "    </tr>\n",
              "  </thead>\n",
              "  <tbody>\n",
              "    <tr>\n",
              "      <th>0</th>\n",
              "      <td>0.98</td>\n",
              "      <td>514.5</td>\n",
              "      <td>294.0</td>\n",
              "      <td>110.25</td>\n",
              "      <td>7.0</td>\n",
              "      <td>2</td>\n",
              "      <td>0.0</td>\n",
              "      <td>0</td>\n",
              "      <td>15.55</td>\n",
              "      <td>21.33</td>\n",
              "    </tr>\n",
              "    <tr>\n",
              "      <th>1</th>\n",
              "      <td>0.98</td>\n",
              "      <td>514.5</td>\n",
              "      <td>294.0</td>\n",
              "      <td>110.25</td>\n",
              "      <td>7.0</td>\n",
              "      <td>3</td>\n",
              "      <td>0.0</td>\n",
              "      <td>0</td>\n",
              "      <td>15.55</td>\n",
              "      <td>21.33</td>\n",
              "    </tr>\n",
              "    <tr>\n",
              "      <th>2</th>\n",
              "      <td>0.98</td>\n",
              "      <td>514.5</td>\n",
              "      <td>294.0</td>\n",
              "      <td>110.25</td>\n",
              "      <td>7.0</td>\n",
              "      <td>4</td>\n",
              "      <td>0.0</td>\n",
              "      <td>0</td>\n",
              "      <td>15.55</td>\n",
              "      <td>21.33</td>\n",
              "    </tr>\n",
              "    <tr>\n",
              "      <th>3</th>\n",
              "      <td>0.98</td>\n",
              "      <td>514.5</td>\n",
              "      <td>294.0</td>\n",
              "      <td>110.25</td>\n",
              "      <td>7.0</td>\n",
              "      <td>5</td>\n",
              "      <td>0.0</td>\n",
              "      <td>0</td>\n",
              "      <td>15.55</td>\n",
              "      <td>21.33</td>\n",
              "    </tr>\n",
              "    <tr>\n",
              "      <th>4</th>\n",
              "      <td>0.90</td>\n",
              "      <td>563.5</td>\n",
              "      <td>318.5</td>\n",
              "      <td>122.50</td>\n",
              "      <td>7.0</td>\n",
              "      <td>2</td>\n",
              "      <td>0.0</td>\n",
              "      <td>0</td>\n",
              "      <td>20.84</td>\n",
              "      <td>28.28</td>\n",
              "    </tr>\n",
              "  </tbody>\n",
              "</table>\n",
              "</div>\n",
              "      <button class=\"colab-df-convert\" onclick=\"convertToInteractive('df-7e31b120-0530-4104-892b-07d161611284')\"\n",
              "              title=\"Convert this dataframe to an interactive table.\"\n",
              "              style=\"display:none;\">\n",
              "        \n",
              "  <svg xmlns=\"http://www.w3.org/2000/svg\" height=\"24px\"viewBox=\"0 0 24 24\"\n",
              "       width=\"24px\">\n",
              "    <path d=\"M0 0h24v24H0V0z\" fill=\"none\"/>\n",
              "    <path d=\"M18.56 5.44l.94 2.06.94-2.06 2.06-.94-2.06-.94-.94-2.06-.94 2.06-2.06.94zm-11 1L8.5 8.5l.94-2.06 2.06-.94-2.06-.94L8.5 2.5l-.94 2.06-2.06.94zm10 10l.94 2.06.94-2.06 2.06-.94-2.06-.94-.94-2.06-.94 2.06-2.06.94z\"/><path d=\"M17.41 7.96l-1.37-1.37c-.4-.4-.92-.59-1.43-.59-.52 0-1.04.2-1.43.59L10.3 9.45l-7.72 7.72c-.78.78-.78 2.05 0 2.83L4 21.41c.39.39.9.59 1.41.59.51 0 1.02-.2 1.41-.59l7.78-7.78 2.81-2.81c.8-.78.8-2.07 0-2.86zM5.41 20L4 18.59l7.72-7.72 1.47 1.35L5.41 20z\"/>\n",
              "  </svg>\n",
              "      </button>\n",
              "      \n",
              "  <style>\n",
              "    .colab-df-container {\n",
              "      display:flex;\n",
              "      flex-wrap:wrap;\n",
              "      gap: 12px;\n",
              "    }\n",
              "\n",
              "    .colab-df-convert {\n",
              "      background-color: #E8F0FE;\n",
              "      border: none;\n",
              "      border-radius: 50%;\n",
              "      cursor: pointer;\n",
              "      display: none;\n",
              "      fill: #1967D2;\n",
              "      height: 32px;\n",
              "      padding: 0 0 0 0;\n",
              "      width: 32px;\n",
              "    }\n",
              "\n",
              "    .colab-df-convert:hover {\n",
              "      background-color: #E2EBFA;\n",
              "      box-shadow: 0px 1px 2px rgba(60, 64, 67, 0.3), 0px 1px 3px 1px rgba(60, 64, 67, 0.15);\n",
              "      fill: #174EA6;\n",
              "    }\n",
              "\n",
              "    [theme=dark] .colab-df-convert {\n",
              "      background-color: #3B4455;\n",
              "      fill: #D2E3FC;\n",
              "    }\n",
              "\n",
              "    [theme=dark] .colab-df-convert:hover {\n",
              "      background-color: #434B5C;\n",
              "      box-shadow: 0px 1px 3px 1px rgba(0, 0, 0, 0.15);\n",
              "      filter: drop-shadow(0px 1px 2px rgba(0, 0, 0, 0.3));\n",
              "      fill: #FFFFFF;\n",
              "    }\n",
              "  </style>\n",
              "\n",
              "      <script>\n",
              "        const buttonEl =\n",
              "          document.querySelector('#df-7e31b120-0530-4104-892b-07d161611284 button.colab-df-convert');\n",
              "        buttonEl.style.display =\n",
              "          google.colab.kernel.accessAllowed ? 'block' : 'none';\n",
              "\n",
              "        async function convertToInteractive(key) {\n",
              "          const element = document.querySelector('#df-7e31b120-0530-4104-892b-07d161611284');\n",
              "          const dataTable =\n",
              "            await google.colab.kernel.invokeFunction('convertToInteractive',\n",
              "                                                     [key], {});\n",
              "          if (!dataTable) return;\n",
              "\n",
              "          const docLinkHtml = 'Like what you see? Visit the ' +\n",
              "            '<a target=\"_blank\" href=https://colab.research.google.com/notebooks/data_table.ipynb>data table notebook</a>'\n",
              "            + ' to learn more about interactive tables.';\n",
              "          element.innerHTML = '';\n",
              "          dataTable['output_type'] = 'display_data';\n",
              "          await google.colab.output.renderOutput(dataTable, element);\n",
              "          const docLink = document.createElement('div');\n",
              "          docLink.innerHTML = docLinkHtml;\n",
              "          element.appendChild(docLink);\n",
              "        }\n",
              "      </script>\n",
              "    </div>\n",
              "  </div>\n",
              "  "
            ]
          },
          "metadata": {},
          "execution_count": 5
        }
      ]
    },
    {
      "cell_type": "markdown",
      "source": [
        "# Normalize dataset between 0 -1"
      ],
      "metadata": {
        "id": "qe0rxtrcIbUl"
      }
    },
    {
      "cell_type": "code",
      "source": [
        "##Completed - Scale the data between 0 - 1 \n",
        "from sklearn.preprocessing import MinMaxScaler\n",
        "\n",
        "scaler = MinMaxScaler()\n",
        "scaled_df = scaler.fit_transform(data_df)\n",
        "scaled_df = pd.DataFrame(scaled_df, columns=['X1','X2','X3','X4','X5','X6','X7','X8', 'Y1', 'Y2'])\n",
        "#scaled_df.head()"
      ],
      "metadata": {
        "id": "iNWGhjQrIbF2"
      },
      "execution_count": 6,
      "outputs": []
    },
    {
      "cell_type": "code",
      "source": [
        "scaled_df.describe()\n"
      ],
      "metadata": {
        "colab": {
          "base_uri": "https://localhost:8080/",
          "height": 300
        },
        "id": "HuHXdSW7IqUR",
        "outputId": "30c6b3fe-7c82-47cd-9967-fd52258f495f"
      },
      "execution_count": 7,
      "outputs": [
        {
          "output_type": "execute_result",
          "data": {
            "text/plain": [
              "               X1          X2          X3          X4          X5          X6  \\\n",
              "count  768.000000  768.000000  768.000000  768.000000  768.000000  768.000000   \n",
              "mean     0.400463    0.534722    0.428571    0.601852    0.500000    0.500000   \n",
              "std      0.293826    0.299613    0.254382    0.409668    0.500326    0.372921   \n",
              "min      0.000000    0.000000    0.000000    0.000000    0.000000    0.000000   \n",
              "25%      0.173611    0.312500    0.285714    0.277778    0.000000    0.250000   \n",
              "50%      0.361111    0.541667    0.428571    0.666667    0.500000    0.500000   \n",
              "75%      0.583333    0.770833    0.571429    1.000000    1.000000    0.750000   \n",
              "max      1.000000    1.000000    1.000000    1.000000    1.000000    1.000000   \n",
              "\n",
              "               X7          X8          Y1          Y2  \n",
              "count  768.000000  768.000000  768.000000  768.000000  \n",
              "mean     0.585938    0.562500    0.439396    0.368644  \n",
              "std      0.333051    0.310192    0.272046    0.256216  \n",
              "min      0.000000    0.000000    0.000000    0.000000  \n",
              "25%      0.250000    0.350000    0.188258    0.127121  \n",
              "50%      0.625000    0.600000    0.348881    0.301104  \n",
              "75%      1.000000    0.800000    0.691763    0.598775  \n",
              "max      1.000000    1.000000    1.000000    1.000000  "
            ],
            "text/html": [
              "\n",
              "  <div id=\"df-bc9ea39e-e872-4590-9df7-adb788cbffb3\">\n",
              "    <div class=\"colab-df-container\">\n",
              "      <div>\n",
              "<style scoped>\n",
              "    .dataframe tbody tr th:only-of-type {\n",
              "        vertical-align: middle;\n",
              "    }\n",
              "\n",
              "    .dataframe tbody tr th {\n",
              "        vertical-align: top;\n",
              "    }\n",
              "\n",
              "    .dataframe thead th {\n",
              "        text-align: right;\n",
              "    }\n",
              "</style>\n",
              "<table border=\"1\" class=\"dataframe\">\n",
              "  <thead>\n",
              "    <tr style=\"text-align: right;\">\n",
              "      <th></th>\n",
              "      <th>X1</th>\n",
              "      <th>X2</th>\n",
              "      <th>X3</th>\n",
              "      <th>X4</th>\n",
              "      <th>X5</th>\n",
              "      <th>X6</th>\n",
              "      <th>X7</th>\n",
              "      <th>X8</th>\n",
              "      <th>Y1</th>\n",
              "      <th>Y2</th>\n",
              "    </tr>\n",
              "  </thead>\n",
              "  <tbody>\n",
              "    <tr>\n",
              "      <th>count</th>\n",
              "      <td>768.000000</td>\n",
              "      <td>768.000000</td>\n",
              "      <td>768.000000</td>\n",
              "      <td>768.000000</td>\n",
              "      <td>768.000000</td>\n",
              "      <td>768.000000</td>\n",
              "      <td>768.000000</td>\n",
              "      <td>768.000000</td>\n",
              "      <td>768.000000</td>\n",
              "      <td>768.000000</td>\n",
              "    </tr>\n",
              "    <tr>\n",
              "      <th>mean</th>\n",
              "      <td>0.400463</td>\n",
              "      <td>0.534722</td>\n",
              "      <td>0.428571</td>\n",
              "      <td>0.601852</td>\n",
              "      <td>0.500000</td>\n",
              "      <td>0.500000</td>\n",
              "      <td>0.585938</td>\n",
              "      <td>0.562500</td>\n",
              "      <td>0.439396</td>\n",
              "      <td>0.368644</td>\n",
              "    </tr>\n",
              "    <tr>\n",
              "      <th>std</th>\n",
              "      <td>0.293826</td>\n",
              "      <td>0.299613</td>\n",
              "      <td>0.254382</td>\n",
              "      <td>0.409668</td>\n",
              "      <td>0.500326</td>\n",
              "      <td>0.372921</td>\n",
              "      <td>0.333051</td>\n",
              "      <td>0.310192</td>\n",
              "      <td>0.272046</td>\n",
              "      <td>0.256216</td>\n",
              "    </tr>\n",
              "    <tr>\n",
              "      <th>min</th>\n",
              "      <td>0.000000</td>\n",
              "      <td>0.000000</td>\n",
              "      <td>0.000000</td>\n",
              "      <td>0.000000</td>\n",
              "      <td>0.000000</td>\n",
              "      <td>0.000000</td>\n",
              "      <td>0.000000</td>\n",
              "      <td>0.000000</td>\n",
              "      <td>0.000000</td>\n",
              "      <td>0.000000</td>\n",
              "    </tr>\n",
              "    <tr>\n",
              "      <th>25%</th>\n",
              "      <td>0.173611</td>\n",
              "      <td>0.312500</td>\n",
              "      <td>0.285714</td>\n",
              "      <td>0.277778</td>\n",
              "      <td>0.000000</td>\n",
              "      <td>0.250000</td>\n",
              "      <td>0.250000</td>\n",
              "      <td>0.350000</td>\n",
              "      <td>0.188258</td>\n",
              "      <td>0.127121</td>\n",
              "    </tr>\n",
              "    <tr>\n",
              "      <th>50%</th>\n",
              "      <td>0.361111</td>\n",
              "      <td>0.541667</td>\n",
              "      <td>0.428571</td>\n",
              "      <td>0.666667</td>\n",
              "      <td>0.500000</td>\n",
              "      <td>0.500000</td>\n",
              "      <td>0.625000</td>\n",
              "      <td>0.600000</td>\n",
              "      <td>0.348881</td>\n",
              "      <td>0.301104</td>\n",
              "    </tr>\n",
              "    <tr>\n",
              "      <th>75%</th>\n",
              "      <td>0.583333</td>\n",
              "      <td>0.770833</td>\n",
              "      <td>0.571429</td>\n",
              "      <td>1.000000</td>\n",
              "      <td>1.000000</td>\n",
              "      <td>0.750000</td>\n",
              "      <td>1.000000</td>\n",
              "      <td>0.800000</td>\n",
              "      <td>0.691763</td>\n",
              "      <td>0.598775</td>\n",
              "    </tr>\n",
              "    <tr>\n",
              "      <th>max</th>\n",
              "      <td>1.000000</td>\n",
              "      <td>1.000000</td>\n",
              "      <td>1.000000</td>\n",
              "      <td>1.000000</td>\n",
              "      <td>1.000000</td>\n",
              "      <td>1.000000</td>\n",
              "      <td>1.000000</td>\n",
              "      <td>1.000000</td>\n",
              "      <td>1.000000</td>\n",
              "      <td>1.000000</td>\n",
              "    </tr>\n",
              "  </tbody>\n",
              "</table>\n",
              "</div>\n",
              "      <button class=\"colab-df-convert\" onclick=\"convertToInteractive('df-bc9ea39e-e872-4590-9df7-adb788cbffb3')\"\n",
              "              title=\"Convert this dataframe to an interactive table.\"\n",
              "              style=\"display:none;\">\n",
              "        \n",
              "  <svg xmlns=\"http://www.w3.org/2000/svg\" height=\"24px\"viewBox=\"0 0 24 24\"\n",
              "       width=\"24px\">\n",
              "    <path d=\"M0 0h24v24H0V0z\" fill=\"none\"/>\n",
              "    <path d=\"M18.56 5.44l.94 2.06.94-2.06 2.06-.94-2.06-.94-.94-2.06-.94 2.06-2.06.94zm-11 1L8.5 8.5l.94-2.06 2.06-.94-2.06-.94L8.5 2.5l-.94 2.06-2.06.94zm10 10l.94 2.06.94-2.06 2.06-.94-2.06-.94-.94-2.06-.94 2.06-2.06.94z\"/><path d=\"M17.41 7.96l-1.37-1.37c-.4-.4-.92-.59-1.43-.59-.52 0-1.04.2-1.43.59L10.3 9.45l-7.72 7.72c-.78.78-.78 2.05 0 2.83L4 21.41c.39.39.9.59 1.41.59.51 0 1.02-.2 1.41-.59l7.78-7.78 2.81-2.81c.8-.78.8-2.07 0-2.86zM5.41 20L4 18.59l7.72-7.72 1.47 1.35L5.41 20z\"/>\n",
              "  </svg>\n",
              "      </button>\n",
              "      \n",
              "  <style>\n",
              "    .colab-df-container {\n",
              "      display:flex;\n",
              "      flex-wrap:wrap;\n",
              "      gap: 12px;\n",
              "    }\n",
              "\n",
              "    .colab-df-convert {\n",
              "      background-color: #E8F0FE;\n",
              "      border: none;\n",
              "      border-radius: 50%;\n",
              "      cursor: pointer;\n",
              "      display: none;\n",
              "      fill: #1967D2;\n",
              "      height: 32px;\n",
              "      padding: 0 0 0 0;\n",
              "      width: 32px;\n",
              "    }\n",
              "\n",
              "    .colab-df-convert:hover {\n",
              "      background-color: #E2EBFA;\n",
              "      box-shadow: 0px 1px 2px rgba(60, 64, 67, 0.3), 0px 1px 3px 1px rgba(60, 64, 67, 0.15);\n",
              "      fill: #174EA6;\n",
              "    }\n",
              "\n",
              "    [theme=dark] .colab-df-convert {\n",
              "      background-color: #3B4455;\n",
              "      fill: #D2E3FC;\n",
              "    }\n",
              "\n",
              "    [theme=dark] .colab-df-convert:hover {\n",
              "      background-color: #434B5C;\n",
              "      box-shadow: 0px 1px 3px 1px rgba(0, 0, 0, 0.15);\n",
              "      filter: drop-shadow(0px 1px 2px rgba(0, 0, 0, 0.3));\n",
              "      fill: #FFFFFF;\n",
              "    }\n",
              "  </style>\n",
              "\n",
              "      <script>\n",
              "        const buttonEl =\n",
              "          document.querySelector('#df-bc9ea39e-e872-4590-9df7-adb788cbffb3 button.colab-df-convert');\n",
              "        buttonEl.style.display =\n",
              "          google.colab.kernel.accessAllowed ? 'block' : 'none';\n",
              "\n",
              "        async function convertToInteractive(key) {\n",
              "          const element = document.querySelector('#df-bc9ea39e-e872-4590-9df7-adb788cbffb3');\n",
              "          const dataTable =\n",
              "            await google.colab.kernel.invokeFunction('convertToInteractive',\n",
              "                                                     [key], {});\n",
              "          if (!dataTable) return;\n",
              "\n",
              "          const docLinkHtml = 'Like what you see? Visit the ' +\n",
              "            '<a target=\"_blank\" href=https://colab.research.google.com/notebooks/data_table.ipynb>data table notebook</a>'\n",
              "            + ' to learn more about interactive tables.';\n",
              "          element.innerHTML = '';\n",
              "          dataTable['output_type'] = 'display_data';\n",
              "          await google.colab.output.renderOutput(dataTable, element);\n",
              "          const docLink = document.createElement('div');\n",
              "          docLink.innerHTML = docLinkHtml;\n",
              "          element.appendChild(docLink);\n",
              "        }\n",
              "      </script>\n",
              "    </div>\n",
              "  </div>\n",
              "  "
            ]
          },
          "metadata": {},
          "execution_count": 7
        }
      ]
    },
    {
      "cell_type": "code",
      "source": [
        "def create_scatter(feature1, feature2):\n",
        "    with plt.style.context(\"ggplot\"):\n",
        "        fig = plt.figure(figsize=(8,4))\n",
        "\n",
        "        plt.scatter(x = scaled_df[feature1],\n",
        "                    y = scaled_df[feature2],\n",
        "                    c= np.random.rand(scaled_df.shape[0]),\n",
        "                    s=20\n",
        "                   )\n",
        "\n",
        "        plt.xlabel(feature1.capitalize())\n",
        "        plt.ylabel(feature2.capitalize())\n",
        "\n",
        "        plt.title(\"%s vs %s\"%(feature1.capitalize(), feature2.capitalize()))\n",
        "\n",
        "from google.colab import output\n",
        "output.enable_custom_widget_manager()"
      ],
      "metadata": {
        "id": "-6xPNJxcIura"
      },
      "execution_count": 8,
      "outputs": []
    },
    {
      "cell_type": "code",
      "source": [
        "widgets.interact(create_scatter, feature1=scaled_df.columns, feature2=scaled_df.columns);"
      ],
      "metadata": {
        "colab": {
          "base_uri": "https://localhost:8080/",
          "height": 1000,
          "referenced_widgets": [
            "d9becf40cf804ce18a9e9d56aea77741",
            "87d8ad4dc640408f8aadc544b1edafb7",
            "bc4666e0dbee48308b70414dd16c10fc",
            "c7ab9761c15b471eb346bc298a17728a",
            "053d7f37d99d48beb3b0a5a162b0fe43",
            "2243d2fff5244b56ac9f9972146f5760",
            "285322683fed471499193df3f3cedbe5",
            "1f3cfbbd5f0e4b5eb06a36da165b5d14",
            "ab79b5dbf4874fbba36c01ad22f72dc3",
            "5130f97c7e6d43f7976ac329aa2d27bc",
            "19b57f83efdc44be8482fb1c5b2f6800",
            "ac691376a2fd4e57a695910fba4b16e5",
            "095e9e4e40584347928936e94481085d",
            "a0dea139b3574f708a352949007639d1",
            "abbe22be1b454fb58777de52439e1864",
            "59ea1beddf824fc888776b19ed3538f4",
            "53ddd569af9947df94693f3059d55752",
            "0777124155134b0dbafd38b7f314fb8c",
            "19913880f9324301bdc552a9984054c9",
            "0d50e850e4cd41af86fff2e863bb1cf8",
            "34ce6765eeba4b90baf2549b178c5102",
            "0c4a63e11a2b4e09b3b347e901973f30",
            "a3c005eb2dbc439da4457d75a564cf38",
            "52c7f9f565cd4d10bd9ac081631ac9ad",
            "d6c0957b2eba4de58eda32de61b9f95b",
            "c4222e0d136b4cbf8eb3867c8acdc010",
            "a2cf8189899940e88f119d62967056ea",
            "d7181c0be36f47c28fe83e4b2d1373d5",
            "8e3291795b5d41faa0e269c3cac90bd0",
            "19f8803a479745e6b62e0e37b4aa4807"
          ]
        },
        "id": "0nUmOrM9I0DK",
        "outputId": "a7a72fde-f5a0-4fa3-b240-6b43e55aefa7"
      },
      "execution_count": 9,
      "outputs": [
        {
          "output_type": "display_data",
          "data": {
            "text/plain": [
              "interactive(children=(Dropdown(description='feature1', options=('X1', 'X2', 'X3', 'X4', 'X5', 'X6', 'X7', 'X8'…"
            ],
            "application/vnd.jupyter.widget-view+json": {
              "version_major": 2,
              "version_minor": 0,
              "model_id": "d9becf40cf804ce18a9e9d56aea77741"
            }
          },
          "metadata": {
            "application/vnd.jupyter.widget-view+json": {
              "colab": {
                "custom_widget_manager": {
                  "url": "https://ssl.gstatic.com/colaboratory-static/widgets/colab-cdn-widget-manager/b3e629b1971e1542/manager.min.js"
                }
              }
            }
          }
        },
        {
          "output_type": "display_data",
          "data": {
            "text/plain": [
              "Canvas(toolbar=Toolbar(toolitems=[('Home', 'Reset original view', 'home', 'home'), ('Back', 'Back to previous …"
            ],
            "image/png": "[encoded data removed]",
            "text/html": [
              "\n",
              "            <div style=\"display: inline-block;\">\n",
              "                <div class=\"jupyter-widgets widget-label\" style=\"text-align: center;\">\n",
              "                    Figure\n",
              "                </div>\n",
              "                <img src='data:image/png;base64,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' width=576.0/>\n",
              "            </div>\n",
              "        "
            ],
            "application/vnd.jupyter.widget-view+json": {
              "version_major": 2,
              "version_minor": 0,
              "model_id": "a0dea139b3574f708a352949007639d1"
            }
          },
          "metadata": {
            "application/vnd.jupyter.widget-view+json": {
              "colab": {
                "custom_widget_manager": {
                  "url": "https://ssl.gstatic.com/colaboratory-static/widgets/colab-cdn-widget-manager/b3e629b1971e1542/manager.min.js"
                }
              }
            }
          }
        },
        {
          "output_type": "display_data",
          "data": {
            "text/plain": [
              "Canvas(toolbar=Toolbar(toolitems=[('Home', 'Reset original view', 'home', 'home'), ('Back', 'Back to previous …"
            ],
            "image/png": "[encoded data removed]",
            "text/html": [
              "\n",
              "            <div style=\"display: inline-block;\">\n",
              "                <div class=\"jupyter-widgets widget-label\" style=\"text-align: center;\">\n",
              "                    Figure\n",
              "                </div>\n",
              "                <img src='data:image/png;base64,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' width=576.0/>\n",
              "            </div>\n",
              "        "
            ],
            "application/vnd.jupyter.widget-view+json": {
              "version_major": 2,
              "version_minor": 0,
              "model_id": "0777124155134b0dbafd38b7f314fb8c"
            }
          },
          "metadata": {
            "application/vnd.jupyter.widget-view+json": {
              "colab": {
                "custom_widget_manager": {
                  "url": "https://ssl.gstatic.com/colaboratory-static/widgets/colab-cdn-widget-manager/b3e629b1971e1542/manager.min.js"
                }
              }
            }
          }
        },
        {
          "output_type": "display_data",
          "data": {
            "text/plain": [
              "Canvas(toolbar=Toolbar(toolitems=[('Home', 'Reset original view', 'home', 'home'), ('Back', 'Back to previous …"
            ],
            "image/png": "[encoded data removed]",
            "text/html": [
              "\n",
              "            <div style=\"display: inline-block;\">\n",
              "                <div class=\"jupyter-widgets widget-label\" style=\"text-align: center;\">\n",
              "                    Figure\n",
              "                </div>\n",
              "                <img src='data:image/png;base64,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' width=576.0/>\n",
              "            </div>\n",
              "        "
            ],
            "application/vnd.jupyter.widget-view+json": {
              "version_major": 2,
              "version_minor": 0,
              "model_id": "0c4a63e11a2b4e09b3b347e901973f30"
            }
          },
          "metadata": {
            "application/vnd.jupyter.widget-view+json": {
              "colab": {
                "custom_widget_manager": {
                  "url": "https://ssl.gstatic.com/colaboratory-static/widgets/colab-cdn-widget-manager/b3e629b1971e1542/manager.min.js"
                }
              }
            }
          }
        },
        {
          "output_type": "display_data",
          "data": {
            "text/plain": [
              "Canvas(toolbar=Toolbar(toolitems=[('Home', 'Reset original view', 'home', 'home'), ('Back', 'Back to previous …"
            ],
            "image/png": "[encoded data removed]",
            "text/html": [
              "\n",
              "            <div style=\"display: inline-block;\">\n",
              "                <div class=\"jupyter-widgets widget-label\" style=\"text-align: center;\">\n",
              "                    Figure\n",
              "                </div>\n",
              "                <img src='data:image/png;base64,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' width=576.0/>\n",
              "            </div>\n",
              "        "
            ],
            "application/vnd.jupyter.widget-view+json": {
              "version_major": 2,
              "version_minor": 0,
              "model_id": "d6c0957b2eba4de58eda32de61b9f95b"
            }
          },
          "metadata": {
            "application/vnd.jupyter.widget-view+json": {
              "colab": {
                "custom_widget_manager": {
                  "url": "https://ssl.gstatic.com/colaboratory-static/widgets/colab-cdn-widget-manager/b3e629b1971e1542/manager.min.js"
                }
              }
            }
          }
        },
        {
          "output_type": "display_data",
          "data": {
            "text/plain": [
              "Canvas(toolbar=Toolbar(toolitems=[('Home', 'Reset original view', 'home', 'home'), ('Back', 'Back to previous …"
            ],
            "image/png": "[encoded data removed]",
            "text/html": [
              "\n",
              "            <div style=\"display: inline-block;\">\n",
              "                <div class=\"jupyter-widgets widget-label\" style=\"text-align: center;\">\n",
              "                    Figure\n",
              "                </div>\n",
              "                <img src='data:image/png;base64,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' width=576.0/>\n",
              "            </div>\n",
              "        "
            ],
            "application/vnd.jupyter.widget-view+json": {
              "version_major": 2,
              "version_minor": 0,
              "model_id": "19f8803a479745e6b62e0e37b4aa4807"
            }
          },
          "metadata": {
            "application/vnd.jupyter.widget-view+json": {
              "colab": {
                "custom_widget_manager": {
                  "url": "https://ssl.gstatic.com/colaboratory-static/widgets/colab-cdn-widget-manager/b3e629b1971e1542/manager.min.js"
                }
              }
            }
          }
        }
      ]
    },
    {
      "cell_type": "markdown",
      "source": [
        "# Prepare Dataset Training\n"
      ],
      "metadata": {
        "id": "Rxn1jbXNLkEt"
      }
    },
    {
      "cell_type": "code",
      "source": [
        "## TODO - Assign each variable in the dataset dataframe to a new variable. \n",
        "\n",
        "#independent variables\n",
        "x1 = scaled_df.iloc[:,0].to_numpy() #extract the first independent variable and convert to numpy()\n",
        "\n",
        "#TODO - Complete the remaining\n",
        "\n",
        "x2 = scaled_df.iloc[:,1].to_numpy() \n",
        "x3 = scaled_df.iloc[:,2].to_numpy() \n",
        "x4 = scaled_df.iloc[:,3].to_numpy() \n",
        "x5 = scaled_df.iloc[:,4].to_numpy()\n",
        "x6 = scaled_df.iloc[:,5].to_numpy()\n",
        "x7 = scaled_df.iloc[:,6].to_numpy()\n",
        "x8 = scaled_df.iloc[:,7].to_numpy()\n",
        "\n",
        "#Dependent variables\n",
        "y1 = scaled_df.iloc[:,8].to_numpy()\n",
        "y2 = scaled_df.iloc[:,9].to_numpy()\n"
      ],
      "metadata": {
        "id": "udAGDW1pK_gv"
      },
      "execution_count": 10,
      "outputs": []
    },
    {
      "cell_type": "markdown",
      "source": [
        "# Build Linear Regression Model"
      ],
      "metadata": {
        "id": "0Hu6Qm8PMzVz"
      }
    },
    {
      "cell_type": "code",
      "source": [
        "## TODO - Implement hypothesis\n",
        "def h(x, b = 0, w = 0):\n",
        "    \"\"\"\n",
        "    calculates the predicted values (or predicted targets) for a given set of inputs and thetas.\n",
        "      x (ndarray (m,)): Data, m examples \n",
        "      w,b (scalar)    : model parameters  \n",
        "    \"\"\"\n",
        "    #complete the function \n",
        "    m = x.shape[0]\n",
        "    for i in range(m):\n",
        "      h_p[i] = w * x[i] + b\n",
        "    \n",
        "    return h_p \n",
        "\n",
        "# TODO - Implement the cost Function\n",
        "def compute_cost(x, y, w, b):\n",
        "    \"\"\"\n",
        "    Computes the gradient for linear regression \n",
        "    Args:\n",
        "      x (ndarray (m,)): Data, m examples \n",
        "      y (ndarray (m,)): target values\n",
        "      w,b (scalar)    : model parameters \n",
        "      \n",
        "    Return:\n",
        "        total_cost: scalar\n",
        "    \"\"\"\n",
        "    ##Complete Function\n",
        "    m = x.shape[0]\n",
        "    cost_sum = 0\n",
        "\n",
        "    for i in range(m):\n",
        "      hp = w * x[i] + b\n",
        "      cost = (y[i] - hp) ** 2\n",
        "      cost_sum += cost\n",
        "    \n",
        "    total_cost = (1 / (2 * m)) * cost_sum\n",
        "    return total_cost\n",
        "\n",
        "\n",
        "def compute_gradient(x, y, w, b): \n",
        "    \"\"\"\n",
        "    Computes the gradient for linear regression \n",
        "    Args:\n",
        "      x (ndarray (m,)): Data, m examples \n",
        "      y (ndarray (m,)): target values\n",
        "      w,b (scalar)    : model parameters  \n",
        "    Returns\n",
        "      dj_dw (scalar): The gradient of the cost w.r.t. the parameters w\n",
        "      dj_db (scalar): The gradient of the cost w.r.t. the parameter b     \n",
        "     \"\"\"\n",
        "    \n",
        "    #complete function\n",
        "    m = x.shape[0]    \n",
        "    dj_dw = 0\n",
        "    dj_db = 0\n",
        "\n",
        "    for i in range(m):  \n",
        "        f_wb = w * x[i] + b \n",
        "        dj_dw_i = (f_wb - y[i]) * x[i] \n",
        "        dj_db_i = f_wb - y[i] \n",
        "        dj_db += dj_db_i\n",
        "        dj_dw += dj_dw_i \n",
        "    dj_dw = dj_dw / m \n",
        "    dj_db = dj_db / m \n",
        "        \n",
        "    return dj_dw, dj_db\n",
        "\n",
        "\n",
        "# Completed - Gradient Descent\n",
        "def gradient_descent(x_train, y_train, w_init, b_init, alpha, num_iters):\n",
        "    \n",
        "    b = b_init\n",
        "    w = w_init\n",
        "    \n",
        "    diff = compute_cost(x_train, y_train, w, b)\n",
        "    \n",
        "    print(\"initial Cost: {}\".format(compute_cost(x_train, y_train, w, b)))\n",
        "\n",
        "    for i in range(num_iters):\n",
        "        # Calculate the gradient and update the parameters using gradient_function\n",
        "        dj_dw, dj_db = compute_gradient(x_train, y_train, w , b) \n",
        "        \n",
        "        # Update Parameters using equation (3) above\n",
        "        b = b - alpha * dj_db                            \n",
        "        w = w - alpha * dj_dw   \n",
        "        \n",
        "    return w, b\n",
        "\n",
        "\n",
        "#Function to predict output - Completed\n",
        "\n",
        "def predict(x, w, b):\n",
        "    \"\"\"\n",
        "    Predicts the output value given the input x and coefficients w and b\n",
        "    \"\"\"\n",
        "\n",
        "    m = x.shape[0] #number of test samples\n",
        "    \n",
        "    y_preds = []\n",
        "    \n",
        "    for i in range(m):\n",
        "        \n",
        "        y_pred = w * x[i] + b\n",
        "        \n",
        "        y_preds.append(y_pred)\n",
        "        \n",
        "    return np.array(y_preds)"
      ],
      "metadata": {
        "id": "BAasbtRnMu3g"
      },
      "execution_count": 11,
      "outputs": []
    },
    {
      "cell_type": "markdown",
      "source": [
        "# Train Linear Regression Model With Gradient Descent\n"
      ],
      "metadata": {
        "id": "ZEy8mQNNPpWl"
      }
    },
    {
      "cell_type": "code",
      "source": [
        "from sklearn.model_selection import train_test_split\n",
        "\n",
        "# initialize parameters\n",
        "w_init = 0.1\n",
        "b_init = 0.5\n",
        "\n",
        "# Gradient descent settings\n",
        "iterations = 10000\n",
        "tmp_alpha = 0.01\n",
        "\n",
        "\n",
        "# using the train test split function\n",
        "x1_train,x1_test, y1_train, y1_test = train_test_split(x1,y1, random_state=104,test_size = 0.25, shuffle=True)\n",
        "\n",
        "# run gradient descent for x1, y1\n",
        "w_final, b_final = gradient_descent(x1_train ,y1_train, w_init, b_init, tmp_alpha, iterations)\n",
        "print(f\"w_final , b_final: ({w_final:8.4f},{b_final:8.4f})\")"
      ],
      "metadata": {
        "colab": {
          "base_uri": "https://localhost:8080/"
        },
        "id": "8dPSH6RlPo3W",
        "outputId": "533dfdf5-f31b-4e5e-d2f8-09f40153ca01"
      },
      "execution_count": 12,
      "outputs": [
        {
          "output_type": "stream",
          "name": "stdout",
          "text": [
            "initial Cost: 0.03783158789943419\n",
            "w_final , b_final: (  0.5803,  0.2026)\n"
          ]
        }
      ]
    },
    {
      "cell_type": "markdown",
      "source": [
        "# Evaluate Model - Mean Square Error\n"
      ],
      "metadata": {
        "id": "4AqmAGATPwYi"
      }
    },
    {
      "cell_type": "code",
      "source": [
        "## TODO - Implement evaluate_model() function which basically computes \n",
        "#the mean square error between the true output variables and predicted output variables\n",
        "\n",
        "def evaluate_model(y_true, y_preds):\n",
        "    \n",
        "    \"\"\"\n",
        "    Args:\n",
        "        y_true: true output values\n",
        "        y_preds: model predicted output values\n",
        "        \n",
        "    Return:\n",
        "        return MSE\n",
        "    \"\"\"\n",
        "    # Complete MSE function\n",
        "    n = y_true.shape[0]\n",
        "    se_sum = 0\n",
        "    for i in range(n):\n",
        "      se = (y_true[i] - y_preds[i]) ** 2\n",
        "      se_sum += se\n",
        "\n",
        "    MSE = se_sum / n\n",
        "    return MSE\n",
        "    "
      ],
      "metadata": {
        "id": "GZJI_GMTPyfP"
      },
      "execution_count": 13,
      "outputs": []
    },
    {
      "cell_type": "code",
      "source": [
        "##Test evaluate_model() function by run\n",
        "import unittest\n",
        "\n",
        "class TestNotebook(unittest.TestCase):\n",
        "    \n",
        "    def test_add(self):\n",
        "        self.assertEqual(evaluate_model(np.array([2 , 2]), np.array([1.5 , 1.5])), 0.25)\n",
        "        \n",
        "\n",
        "unittest.main(argv=[''], verbosity=2, exit=False)"
      ],
      "metadata": {
        "colab": {
          "base_uri": "https://localhost:8080/"
        },
        "id": "HiABUXs1QrCV",
        "outputId": "1f7c2046-a978-4938-9d83-adf35b824f1b"
      },
      "execution_count": 14,
      "outputs": [
        {
          "output_type": "stream",
          "name": "stderr",
          "text": [
            "test_add (__main__.TestNotebook) ... ok\n",
            "\n",
            "----------------------------------------------------------------------\n",
            "Ran 1 test in 0.005s\n",
            "\n",
            "OK\n"
          ]
        },
        {
          "output_type": "execute_result",
          "data": {
            "text/plain": [
              "<unittest.main.TestProgram at 0x7fed911e2df0>"
            ]
          },
          "metadata": {},
          "execution_count": 14
        }
      ]
    },
    {
      "cell_type": "markdown",
      "source": [
        "# Determining the best independent variable to predict Y1"
      ],
      "metadata": {
        "id": "MxJ4ZaLwRdiN"
      }
    },
    {
      "cell_type": "markdown",
      "source": [
        "## x1"
      ],
      "metadata": {
        "id": "Jy95S_ZdR7JB"
      }
    },
    {
      "cell_type": "code",
      "source": [
        "from sklearn.model_selection import train_test_split\n",
        "\n",
        "# initialize parameters\n",
        "w_init = 0.1\n",
        "b_init = 0.5\n",
        "\n",
        "# Gradient descent settings\n",
        "iterations = 10000\n",
        "tmp_alpha = 0.01\n",
        "\n",
        "\n",
        "# using the train test split function\n",
        "x1_train,x1_test, y1_train, y1_test = train_test_split(x1,y1, random_state=104,test_size = 0.25, shuffle=True)\n",
        "\n",
        "# run gradient descent for x1, y1\n",
        "w_final, b_final = gradient_descent(x1_train ,y1_train, w_init, b_init, tmp_alpha, iterations)\n",
        "print(f\"w_final , b_final: ({w_final:8.4f},{b_final:8.4f})\")\n",
        "\n",
        "y_pred = x1 * w_final + b_final\n",
        "\n",
        "print(evaluate_model(y1, y_pred))"
      ],
      "metadata": {
        "colab": {
          "base_uri": "https://localhost:8080/"
        },
        "id": "j-cGaL4iQyw3",
        "outputId": "27e21cfc-c5cb-46ca-d60f-234663c30419"
      },
      "execution_count": 15,
      "outputs": [
        {
          "output_type": "stream",
          "name": "stdout",
          "text": [
            "initial Cost: 0.03783158789943419\n",
            "w_final , b_final: (  0.5803,  0.2026)\n",
            "0.04531315945994877\n"
          ]
        }
      ]
    },
    {
      "cell_type": "markdown",
      "source": [
        "## x2"
      ],
      "metadata": {
        "id": "2gCqUvOmSFtV"
      }
    },
    {
      "cell_type": "code",
      "source": [
        "from sklearn.model_selection import train_test_split\n",
        "\n",
        "# initialize parameters\n",
        "w_init = 0.1\n",
        "b_init = 0.5\n",
        "\n",
        "# Gradient descent settings\n",
        "iterations = 10000\n",
        "tmp_alpha = 0.01\n",
        "\n",
        "\n",
        "# using the train test split function\n",
        "x1_train,x1_test, y1_train, y1_test = train_test_split(x2,y1, random_state=104,test_size = 0.25, shuffle=True)\n",
        "\n",
        "# run gradient descent for x1, y1\n",
        "w_final, b_final = gradient_descent(x1_train ,y1_train, w_init, b_init, tmp_alpha, iterations)\n",
        "print(f\"w_final , b_final: ({w_final:8.4f},{b_final:8.4f})\")\n",
        "\n",
        "y_pred = x2 * w_final + b_final\n",
        "\n",
        "print(evaluate_model(y1, y_pred))"
      ],
      "metadata": {
        "colab": {
          "base_uri": "https://localhost:8080/"
        },
        "id": "jagftQKWR9vk",
        "outputId": "dbd0af0c-7b20-4b1c-ebff-750975f32c43"
      },
      "execution_count": 17,
      "outputs": [
        {
          "output_type": "stream",
          "name": "stdout",
          "text": [
            "initial Cost: 0.04985120260286773\n",
            "w_final , b_final: ( -0.6005,  0.7563)\n",
            "0.041918010284218155\n"
          ]
        }
      ]
    },
    {
      "cell_type": "markdown",
      "source": [
        "## x3\n"
      ],
      "metadata": {
        "id": "3KhUUMIXSJqS"
      }
    },
    {
      "cell_type": "code",
      "source": [
        "from sklearn.model_selection import train_test_split\n",
        "\n",
        "# initialize parameters\n",
        "w_init = 0.1\n",
        "b_init = 0.5\n",
        "\n",
        "# Gradient descent settings\n",
        "iterations = 10000\n",
        "tmp_alpha = 0.01\n",
        "\n",
        "\n",
        "# using the train test split function\n",
        "x1_train,x1_test, y1_train, y1_test = train_test_split(x3,y1, random_state=104,test_size = 0.25, shuffle=True)\n",
        "\n",
        "# run gradient descent for x1, y1\n",
        "w_final, b_final = gradient_descent(x1_train ,y1_train, w_init, b_init, tmp_alpha, iterations)\n",
        "print(f\"w_final , b_final: ({w_final:8.4f},{b_final:8.4f})\")\n",
        "\n",
        "y_pred = x3 * w_final + b_final\n",
        "\n",
        "print(evaluate_model(y1, y_pred))"
      ],
      "metadata": {
        "colab": {
          "base_uri": "https://localhost:8080/"
        },
        "id": "mlZBJkceSLlI",
        "outputId": "4e532c0e-637d-4176-87f2-26d4c49148ed"
      },
      "execution_count": 18,
      "outputs": [
        {
          "output_type": "stream",
          "name": "stdout",
          "text": [
            "initial Cost: 0.03995325707884356\n",
            "w_final , b_final: (  0.4724,  0.2352)\n",
            "0.05858327753438769\n"
          ]
        }
      ]
    },
    {
      "cell_type": "markdown",
      "source": [
        "## x4"
      ],
      "metadata": {
        "id": "7SJtn2kUsCH1"
      }
    },
    {
      "cell_type": "code",
      "source": [
        "from sklearn.model_selection import train_test_split\n",
        "\n",
        "# initialize parameters\n",
        "w_init = 0.1\n",
        "b_init = 0.5\n",
        "\n",
        "# Gradient descent settings\n",
        "iterations = 10000\n",
        "tmp_alpha = 0.01\n",
        "\n",
        "\n",
        "# using the train test split function\n",
        "x1_train,x1_test, y1_train, y1_test = train_test_split(x4,y1, random_state=104,test_size = 0.25, shuffle=True)\n",
        "\n",
        "# run gradient descent for x1, y1\n",
        "w_final, b_final = gradient_descent(x1_train ,y1_train, w_init, b_init, tmp_alpha, iterations)\n",
        "print(f\"w_final , b_final: ({w_final:8.4f},{b_final:8.4f})\")\n",
        "\n",
        "y_pred = x4 * w_final + b_final\n",
        "\n",
        "print(evaluate_model(y1, y_pred))"
      ],
      "metadata": {
        "colab": {
          "base_uri": "https://localhost:8080/"
        },
        "id": "hMsmG46NsFQR",
        "outputId": "a6f87d8b-7571-49e1-e58d-c65605bea733"
      },
      "execution_count": 19,
      "outputs": [
        {
          "output_type": "stream",
          "name": "stdout",
          "text": [
            "initial Cost: 0.05531197462696928\n",
            "w_final , b_final: ( -0.5738,  0.7839)\n",
            "0.019015332567589204\n"
          ]
        }
      ]
    },
    {
      "cell_type": "markdown",
      "source": [
        "## x5 "
      ],
      "metadata": {
        "id": "u3QsdQGvsKe4"
      }
    },
    {
      "cell_type": "code",
      "source": [
        "from sklearn.model_selection import train_test_split\n",
        "\n",
        "# initialize parameters\n",
        "w_init = 0.1\n",
        "b_init = 0.5\n",
        "\n",
        "# Gradient descent settings\n",
        "iterations = 10000\n",
        "tmp_alpha = 0.01\n",
        "\n",
        "\n",
        "# using the train test split function\n",
        "x1_train,x1_test, y1_train, y1_test = train_test_split(x5,y1, random_state=104,test_size = 0.25, shuffle=True)\n",
        "\n",
        "# run gradient descent for x1, y1\n",
        "w_final, b_final = gradient_descent(x1_train ,y1_train, w_init, b_init, tmp_alpha, iterations)\n",
        "print(f\"w_final , b_final: ({w_final:8.4f},{b_final:8.4f})\")\n",
        "\n",
        "y_pred = x5 * w_final + b_final\n",
        "\n",
        "print(evaluate_model(y1, y_pred))"
      ],
      "metadata": {
        "colab": {
          "base_uri": "https://localhost:8080/"
        },
        "id": "KaE_EURFvTzu",
        "outputId": "a5cf5a6d-1c79-4709-fa3d-938ae39490a5"
      },
      "execution_count": 20,
      "outputs": [
        {
          "output_type": "stream",
          "name": "stdout",
          "text": [
            "initial Cost: 0.03260345981125763\n",
            "w_final , b_final: (  0.4842,  0.1964)\n",
            "0.015442202623433432\n"
          ]
        }
      ]
    },
    {
      "cell_type": "markdown",
      "source": [
        "## x6"
      ],
      "metadata": {
        "id": "rKsv1F3MvX8y"
      }
    },
    {
      "cell_type": "code",
      "source": [
        "from sklearn.model_selection import train_test_split\n",
        "\n",
        "# initialize parameters\n",
        "w_init = 0.1\n",
        "b_init = 0.5\n",
        "\n",
        "# Gradient descent settings\n",
        "iterations = 10000\n",
        "tmp_alpha = 0.01\n",
        "\n",
        "\n",
        "# using the train test split function\n",
        "x1_train,x1_test, y1_train, y1_test = train_test_split(x6,y1, random_state=104,test_size = 0.25, shuffle=True)\n",
        "\n",
        "# run gradient descent for x1, y1\n",
        "w_final, b_final = gradient_descent(x1_train ,y1_train, w_init, b_init, tmp_alpha, iterations)\n",
        "print(f\"w_final , b_final: ({w_final:8.4f},{b_final:8.4f})\")\n",
        "\n",
        "y_pred = x6 * w_final + b_final\n",
        "\n",
        "print(evaluate_model(y1, y_pred))"
      ],
      "metadata": {
        "colab": {
          "base_uri": "https://localhost:8080/"
        },
        "id": "E7aetN9WvY6P",
        "outputId": "4260b468-7a8f-4231-ad54-867ef1fab693"
      },
      "execution_count": 21,
      "outputs": [
        {
          "output_type": "stream",
          "name": "stdout",
          "text": [
            "initial Cost: 0.04401788561985132\n",
            "w_final , b_final: (  0.0163,  0.4262)\n",
            "0.07398360154901167\n"
          ]
        }
      ]
    },
    {
      "cell_type": "markdown",
      "source": [
        "## x7"
      ],
      "metadata": {
        "id": "SPXxacW9veYw"
      }
    },
    {
      "cell_type": "code",
      "source": [
        "from sklearn.model_selection import train_test_split\n",
        "\n",
        "# initialize parameters\n",
        "w_init = 0.1\n",
        "b_init = 0.5\n",
        "\n",
        "# Gradient descent settings\n",
        "iterations = 10000\n",
        "tmp_alpha = 0.01\n",
        "\n",
        "\n",
        "# using the train test split function\n",
        "x1_train,x1_test, y1_train, y1_test = train_test_split(x7,y1, random_state=104,test_size = 0.25, shuffle=True)\n",
        "\n",
        "# run gradient descent for x1, y1\n",
        "w_final, b_final = gradient_descent(x1_train ,y1_train, w_init, b_init, tmp_alpha, iterations)\n",
        "print(f\"w_final , b_final: ({w_final:8.4f},{b_final:8.4f})\")\n",
        "\n",
        "y_pred = x7 * w_final + b_final\n",
        "\n",
        "print(evaluate_model(y1, y_pred))"
      ],
      "metadata": {
        "colab": {
          "base_uri": "https://localhost:8080/"
        },
        "id": "ozr5ZKd-vfGN",
        "outputId": "1e607fc1-0b9e-45ff-e791-2ef3764a1bb7"
      },
      "execution_count": 22,
      "outputs": [
        {
          "output_type": "stream",
          "name": "stdout",
          "text": [
            "initial Cost: 0.04257284539894927\n",
            "w_final , b_final: (  0.2330,  0.2963)\n",
            "0.06859094825036384\n"
          ]
        }
      ]
    },
    {
      "cell_type": "markdown",
      "source": [
        "## x8"
      ],
      "metadata": {
        "id": "3oVXwMwAviUW"
      }
    },
    {
      "cell_type": "code",
      "source": [
        "from sklearn.model_selection import train_test_split\n",
        "\n",
        "# initialize parameters\n",
        "w_init = 0.1\n",
        "b_init = 0.5\n",
        "\n",
        "# Gradient descent settings\n",
        "iterations = 10000\n",
        "tmp_alpha = 0.01\n",
        "\n",
        "\n",
        "# using the train test split function\n",
        "x1_train,x1_test, y1_train, y1_test = train_test_split(x8,y1, random_state=104,test_size = 0.25, shuffle=True)\n",
        "\n",
        "# run gradient descent for x1, y1\n",
        "w_final, b_final = gradient_descent(x1_train ,y1_train, w_init, b_init, tmp_alpha, iterations)\n",
        "print(f\"w_final , b_final: ({w_final:8.4f},{b_final:8.4f})\")\n",
        "\n",
        "y_pred = x8 * w_final + b_final\n",
        "\n",
        "print(evaluate_model(y1, y_pred))"
      ],
      "metadata": {
        "colab": {
          "base_uri": "https://localhost:8080/"
        },
        "id": "7e6pYs61vhvg",
        "outputId": "18f41250-1bfd-4351-ee21-a3ce41cb7dfc"
      },
      "execution_count": 23,
      "outputs": [
        {
          "output_type": "stream",
          "name": "stdout",
          "text": [
            "initial Cost: 0.044073345094053244\n",
            "w_final , b_final: (  0.0866,  0.3847)\n",
            "0.0733943352076692\n"
          ]
        }
      ]
    },
    {
      "cell_type": "markdown",
      "source": [
        "## The best variable to approximate y1\n",
        "\n",
        "Using x5 gave the smallest MSE. Therefore, x5 is the variable that gives the best estimation for y1"
      ],
      "metadata": {
        "id": "GfNeUYRXvrHR"
      }
    },
    {
      "cell_type": "markdown",
      "source": [
        "# Determining the best independent variable to predict Y1"
      ],
      "metadata": {
        "id": "jP8D9L-MwAw_"
      }
    },
    {
      "cell_type": "code",
      "source": [
        "from sklearn.model_selection import train_test_split\n",
        "\n",
        "# initialize parameters\n",
        "w_init = 0.1\n",
        "b_init = 0.5\n",
        "\n",
        "# Gradient descent settings\n",
        "iterations = 10000\n",
        "tmp_alpha = 0.01\n",
        "\n",
        "\n",
        "# using the train test split function\n",
        "x1_train,x1_test, y1_train, y1_test = train_test_split(x1,y2, random_state=104,test_size = 0.25, shuffle=True)\n",
        "\n",
        "# run gradient descent for x1, y1\n",
        "w_final, b_final = gradient_descent(x1_train ,y1_train, w_init, b_init, tmp_alpha, iterations)\n",
        "print(f\"w_final , b_final: ({w_final:8.4f},{b_final:8.4f})\")\n",
        "\n",
        "y_pred = x1 * w_final + b_final\n",
        "\n",
        "print(evaluate_model(y1, y_pred))"
      ],
      "metadata": {
        "colab": {
          "base_uri": "https://localhost:8080/"
        },
        "id": "Wk3MjsCmv8-I",
        "outputId": "0db5147b-d3d9-458b-b4b8-2546d280e341"
      },
      "execution_count": 24,
      "outputs": [
        {
          "output_type": "stream",
          "name": "stdout",
          "text": [
            "initial Cost: 0.043988195434645806\n",
            "w_final , b_final: (  0.5567,  0.1425)\n",
            "0.050790988755483844\n"
          ]
        }
      ]
    },
    {
      "cell_type": "code",
      "source": [
        "from sklearn.model_selection import train_test_split\n",
        "\n",
        "# initialize parameters\n",
        "w_init = 0.1\n",
        "b_init = 0.5\n",
        "\n",
        "# Gradient descent settings\n",
        "iterations = 10000\n",
        "tmp_alpha = 0.01\n",
        "\n",
        "\n",
        "# using the train test split function\n",
        "x1_train,x1_test, y1_train, y1_test = train_test_split(x2,y2, random_state=104,test_size = 0.25, shuffle=True)\n",
        "\n",
        "# run gradient descent for x1, y1\n",
        "w_final, b_final = gradient_descent(x1_train ,y1_train, w_init, b_init, tmp_alpha, iterations)\n",
        "print(f\"w_final , b_final: ({w_final:8.4f},{b_final:8.4f})\")\n",
        "\n",
        "y_pred = x2 * w_final + b_final\n",
        "\n",
        "print(evaluate_model(y1, y_pred))"
      ],
      "metadata": {
        "colab": {
          "base_uri": "https://localhost:8080/"
        },
        "id": "-aMwCL6GwQjs",
        "outputId": "cad6a17d-8428-41ac-f8fb-2b150440fb23"
      },
      "execution_count": 25,
      "outputs": [
        {
          "output_type": "stream",
          "name": "stdout",
          "text": [
            "initial Cost: 0.05655741176603478\n",
            "w_final , b_final: ( -0.5788,  0.6752)\n",
            "0.047366161129887153\n"
          ]
        }
      ]
    },
    {
      "cell_type": "code",
      "source": [
        "from sklearn.model_selection import train_test_split\n",
        "\n",
        "# initialize parameters\n",
        "w_init = 0.1\n",
        "b_init = 0.5\n",
        "\n",
        "# Gradient descent settings\n",
        "iterations = 10000\n",
        "tmp_alpha = 0.01\n",
        "\n",
        "\n",
        "# using the train test split function\n",
        "x1_train,x1_test, y1_train, y1_test = train_test_split(x3,y2, random_state=104,test_size = 0.25, shuffle=True)\n",
        "\n",
        "# run gradient descent for x1, y1\n",
        "w_final, b_final = gradient_descent(x1_train ,y1_train, w_init, b_init, tmp_alpha, iterations)\n",
        "print(f\"w_final , b_final: ({w_final:8.4f},{b_final:8.4f})\")\n",
        "\n",
        "y_pred = x3 * w_final + b_final\n",
        "\n",
        "print(evaluate_model(y1, y_pred))"
      ],
      "metadata": {
        "colab": {
          "base_uri": "https://localhost:8080/"
        },
        "id": "nuJrHIakwUTT",
        "outputId": "80e343f5-fb5b-4a15-cc7c-9bde5b752b81"
      },
      "execution_count": 26,
      "outputs": [
        {
          "output_type": "stream",
          "name": "stdout",
          "text": [
            "initial Cost: 0.04639589914281584\n",
            "w_final , b_final: (  0.4202,  0.1877)\n",
            "0.0639801127716506\n"
          ]
        }
      ]
    },
    {
      "cell_type": "code",
      "source": [
        "from sklearn.model_selection import train_test_split\n",
        "\n",
        "# initialize parameters\n",
        "w_init = 0.1\n",
        "b_init = 0.5\n",
        "\n",
        "# Gradient descent settings\n",
        "iterations = 10000\n",
        "tmp_alpha = 0.01\n",
        "\n",
        "\n",
        "# using the train test split function\n",
        "x1_train,x1_test, y1_train, y1_test = train_test_split(x4,y2, random_state=104,test_size = 0.25, shuffle=True)\n",
        "\n",
        "# run gradient descent for x1, y1\n",
        "w_final, b_final = gradient_descent(x1_train ,y1_train, w_init, b_init, tmp_alpha, iterations)\n",
        "print(f\"w_final , b_final: ({w_final:8.4f},{b_final:8.4f})\")\n",
        "\n",
        "y_pred = x4 * w_final + b_final\n",
        "\n",
        "print(evaluate_model(y1, y_pred))"
      ],
      "metadata": {
        "colab": {
          "base_uri": "https://localhost:8080/"
        },
        "id": "TZuxRPEjwajH",
        "outputId": "05650480-b51b-4319-8b41-eb8f6314044a"
      },
      "execution_count": 27,
      "outputs": [
        {
          "output_type": "stream",
          "name": "stdout",
          "text": [
            "initial Cost: 0.06219868285774162\n",
            "w_final , b_final: ( -0.5425,  0.6953)\n",
            "0.02414185316214623\n"
          ]
        }
      ]
    },
    {
      "cell_type": "code",
      "source": [
        "from sklearn.model_selection import train_test_split\n",
        "\n",
        "# initialize parameters\n",
        "w_init = 0.1\n",
        "b_init = 0.5\n",
        "\n",
        "# Gradient descent settings\n",
        "iterations = 10000\n",
        "tmp_alpha = 0.01\n",
        "\n",
        "\n",
        "# using the train test split function\n",
        "x1_train,x1_test, y1_train, y1_test = train_test_split(x5,y2, random_state=104,test_size = 0.25, shuffle=True)\n",
        "\n",
        "# run gradient descent for x1, y1\n",
        "w_final, b_final = gradient_descent(x1_train ,y1_train, w_init, b_init, tmp_alpha, iterations)\n",
        "print(f\"w_final , b_final: ({w_final:8.4f},{b_final:8.4f})\")\n",
        "\n",
        "y_pred = x5 * w_final + b_final\n",
        "\n",
        "print(evaluate_model(y1, y_pred))"
      ],
      "metadata": {
        "colab": {
          "base_uri": "https://localhost:8080/"
        },
        "id": "Dg7KN2RZwc-R",
        "outputId": "c4bcdf63-cd23-49fc-92ac-f4f79a4ce5e8"
      },
      "execution_count": 28,
      "outputs": [
        {
          "output_type": "stream",
          "name": "stdout",
          "text": [
            "initial Cost: 0.03975575173869304\n",
            "w_final , b_final: (  0.4618,  0.1380)\n",
            "0.02053470928256186\n"
          ]
        }
      ]
    },
    {
      "cell_type": "code",
      "source": [
        "from sklearn.model_selection import train_test_split\n",
        "\n",
        "# initialize parameters\n",
        "w_init = 0.1\n",
        "b_init = 0.5\n",
        "\n",
        "# Gradient descent settings\n",
        "iterations = 10000\n",
        "tmp_alpha = 0.01\n",
        "\n",
        "\n",
        "# using the train test split function\n",
        "x1_train,x1_test, y1_train, y1_test = train_test_split(x7,y2, random_state=104,test_size = 0.25, shuffle=True)\n",
        "\n",
        "# run gradient descent for x1, y1\n",
        "w_final, b_final = gradient_descent(x1_train ,y1_train, w_init, b_init, tmp_alpha, iterations)\n",
        "print(f\"w_final , b_final: ({w_final:8.4f},{b_final:8.4f})\")\n",
        "\n",
        "y_pred = x7 * w_final + b_final\n",
        "\n",
        "print(evaluate_model(y1, y_pred))"
      ],
      "metadata": {
        "colab": {
          "base_uri": "https://localhost:8080/"
        },
        "id": "Rby7OcZNwglu",
        "outputId": "ad03268e-2664-4efc-dc95-fb986ca5b1d3"
      },
      "execution_count": 29,
      "outputs": [
        {
          "output_type": "stream",
          "name": "stdout",
          "text": [
            "initial Cost: 0.050578529790879734\n",
            "w_final , b_final: (  0.1706,  0.2638)\n",
            "0.07452222293480144\n"
          ]
        }
      ]
    },
    {
      "cell_type": "code",
      "source": [
        "from sklearn.model_selection import train_test_split\n",
        "\n",
        "# initialize parameters\n",
        "w_init = 0.1\n",
        "b_init = 0.5\n",
        "\n",
        "# Gradient descent settings\n",
        "iterations = 10000\n",
        "tmp_alpha = 0.01\n",
        "\n",
        "\n",
        "# using the train test split function\n",
        "x1_train,x1_test, y1_train, y1_test = train_test_split(x7,y2, random_state=104,test_size = 0.25, shuffle=True)\n",
        "\n",
        "# run gradient descent for x1, y1\n",
        "w_final, b_final = gradient_descent(x1_train ,y1_train, w_init, b_init, tmp_alpha, iterations)\n",
        "print(f\"w_final , b_final: ({w_final:8.4f},{b_final:8.4f})\")\n",
        "\n",
        "y_pred = x7 * w_final + b_final\n",
        "\n",
        "print(evaluate_model(y1, y_pred))"
      ],
      "metadata": {
        "colab": {
          "base_uri": "https://localhost:8080/"
        },
        "id": "JiKfLOemwjjk",
        "outputId": "362d15d9-0e9b-4088-f4f2-f4a7536d4ea9"
      },
      "execution_count": 30,
      "outputs": [
        {
          "output_type": "stream",
          "name": "stdout",
          "text": [
            "initial Cost: 0.050578529790879734\n",
            "w_final , b_final: (  0.1706,  0.2638)\n",
            "0.07452222293480144\n"
          ]
        }
      ]
    },
    {
      "cell_type": "code",
      "source": [
        "from sklearn.model_selection import train_test_split\n",
        "\n",
        "# initialize parameters\n",
        "w_init = 0.1\n",
        "b_init = 0.5\n",
        "\n",
        "# Gradient descent settings\n",
        "iterations = 10000\n",
        "tmp_alpha = 0.01\n",
        "\n",
        "\n",
        "# using the train test split function\n",
        "x1_train,x1_test, y1_train, y1_test = train_test_split(x8,y2, random_state=104,test_size = 0.25, shuffle=True)\n",
        "\n",
        "# run gradient descent for x1, y1\n",
        "w_final, b_final = gradient_descent(x1_train ,y1_train, w_init, b_init, tmp_alpha, iterations)\n",
        "print(f\"w_final , b_final: ({w_final:8.4f},{b_final:8.4f})\")\n",
        "\n",
        "y_pred = x8 * w_final + b_final\n",
        "\n",
        "print(evaluate_model(y1, y_pred))"
      ],
      "metadata": {
        "colab": {
          "base_uri": "https://localhost:8080/"
        },
        "id": "ohkTZ4zdwm_O",
        "outputId": "3269cdac-d5ae-4813-9f24-43c929b637d3"
      },
      "execution_count": 31,
      "outputs": [
        {
          "output_type": "stream",
          "name": "stdout",
          "text": [
            "initial Cost: 0.05157330801618659\n",
            "w_final , b_final: (  0.0524,  0.3348)\n",
            "0.07904756076433865\n"
          ]
        }
      ]
    },
    {
      "cell_type": "markdown",
      "source": [
        "## The best variable to approximate y2\n",
        "\n",
        "Using x5 gave the smallest MSE. Therefore, x5 is the variable that gives the best estimation for y2, just like y1."
      ],
      "metadata": {
        "id": "gG73GtHTw5T3"
      }
    }
  ]
}